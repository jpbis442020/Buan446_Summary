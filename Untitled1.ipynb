{
 "cells": [
  {
   "cell_type": "code",
   "execution_count": null,
   "id": "f059a16f-33cf-4dee-b79c-dbbb39594af8",
   "metadata": {},
   "outputs": [],
   "source": [
    "2.6(Odd or Even) Use if statements to determine whether an integer is odd or even.\n",
    "[Hint: Use the remainder operator. An even number is a multiple of 2. Any multiple of 2\n",
    "leaves a remainder of 0 when divided by 2.]"
   ]
  },
  {
   "cell_type": "code",
   "execution_count": 1,
   "id": "45e02f99-2577-43c2-b448-a320cb7c7f3a",
   "metadata": {
    "tags": []
   },
   "outputs": [
    {
     "name": "stdout",
     "output_type": "stream",
     "text": [
      "10 is Even\n",
      "7 is Odd\n"
     ]
    }
   ],
   "source": [
    "def check_odd_or_even(number):\n",
    "    \"\"\"\n",
    "    Check if an integer is odd or even.\n",
    "\n",
    "    Args:\n",
    "        number (int): The integer to be checked.\n",
    "\n",
    "    Returns:\n",
    "        str: \"Even\" if the number is even, \"Odd\" if the number is odd.\n",
    "    \"\"\"\n",
    "    if number % 2 == 0:\n",
    "        return \"Even\"\n",
    "    else:\n",
    "        return \"Odd\"\n",
    "\n",
    "# Example usage\n",
    "num1 = 10\n",
    "num2 = 7\n",
    "\n",
    "print(f\"{num1} is {check_odd_or_even(num1)}\")\n",
    "print(f\"{num2} is {check_odd_or_even(num2)}\")"
   ]
  },
  {
   "cell_type": "code",
   "execution_count": null,
   "id": "16cc6fcb-9a94-4ddf-a751-ce0c3e58d505",
   "metadata": {},
   "outputs": [],
   "source": [
    "2.7 (Multiples) Use if statements to determine whether 1024 is a multiple of 4 and\n",
    "whether 2 is a multiple of 10. (Hint: Use the remainder operator.)"
   ]
  },
  {
   "cell_type": "code",
   "execution_count": 2,
   "id": "439a251c-f4a4-4215-ac6d-f4da142cac7b",
   "metadata": {
    "tags": []
   },
   "outputs": [
    {
     "name": "stdout",
     "output_type": "stream",
     "text": [
      "1024 is a multiple of 4: True\n",
      "2 is a multiple of 10: False\n"
     ]
    }
   ],
   "source": [
    "def is_multiple(number, divisor):\n",
    "    \"\"\"\n",
    "    Check if a number is a multiple of a given divisor.\n",
    "\n",
    "    Args:\n",
    "        number (int): The number to be checked.\n",
    "        divisor (int): The divisor.\n",
    "\n",
    "    Returns:\n",
    "        bool: True if the number is a multiple of the divisor, False otherwise.\n",
    "    \"\"\"\n",
    "    return number % divisor == 0\n",
    "\n",
    "# Check if 1024 is a multiple of 4\n",
    "num1 = 1024\n",
    "divisor1 = 4\n",
    "result1 = is_multiple(num1, divisor1)\n",
    "print(f\"{num1} is a multiple of {divisor1}: {result1}\")\n",
    "\n",
    "# Check if 2 is a multiple of 10\n",
    "num2 = 2\n",
    "divisor2 = 10\n",
    "result2 = is_multiple(num2, divisor2)\n",
    "print(f\"{num2} is a multiple of {divisor2}: {result2}\")"
   ]
  },
  {
   "cell_type": "code",
   "execution_count": null,
   "id": "7d766c08-08da-4698-8891-c9b9a169095c",
   "metadata": {},
   "outputs": [],
   "source": [
    "2.8(Table of Squares and Cubes) Write a script that calculates the squares and cubes\n",
    "of the numbers from 0 to 5. Print the resulting values in table format, as shown below. Use\n",
    "the tab escape sequence to achieve the three-column output.\n",
    "number square cube\n",
    "0 0 0\n",
    "1 1 1\n",
    "2 4 8\n",
    "3 9 27\n",
    "4 16 64\n",
    "5 25 125"
   ]
  },
  {
   "cell_type": "code",
   "execution_count": 3,
   "id": "ef6fb665-bd9f-49a9-b0ab-660863b88def",
   "metadata": {
    "tags": []
   },
   "outputs": [
    {
     "name": "stdout",
     "output_type": "stream",
     "text": [
      "number\t square\t cube\n",
      "-----------------------\n",
      "0\t 0\t 0\n",
      "1\t 1\t 1\n",
      "2\t 4\t 8\n",
      "3\t 9\t 27\n",
      "4\t 16\t 64\n",
      "5\t 25\t 125\n"
     ]
    }
   ],
   "source": [
    "def calculate_squares_and_cubes():\n",
    "    \"\"\"\n",
    "    Calculate squares and cubes of numbers from 0 to 5 and print the results in a table format.\n",
    "    \"\"\"\n",
    "    print(\"number\\t square\\t cube\")\n",
    "    print(\"-----------------------\")\n",
    "    \n",
    "    for number in range(6):\n",
    "        square = number ** 2\n",
    "        cube = number ** 3\n",
    "        print(f\"{number}\\t {square}\\t {cube}\")\n",
    "\n",
    "\n",
    "# Call the function to print the table\n",
    "calculate_squares_and_cubes()"
   ]
  },
  {
   "cell_type": "code",
   "execution_count": null,
   "id": "7c35478c-d076-4842-9cc2-a3fa086680c2",
   "metadata": {},
   "outputs": [],
   "source": [
    "2.12(7% Investment Return) Some investment advisors say that it’s reasonable to ex-\n",
    "pect a 7% return over the long term in the stock market. Assuming that you begin with\n",
    "\n",
    "$1000 and leave your money invested, calculate and display how much money you’ll have\n",
    "after 10, 20 and 30 years. Use the following formula for determining these amounts:\n",
    "a = p(1 + r)\n",
    "n\n",
    "\n",
    "where\n",
    "p is the original amount invested (i.e., the principal of $1000),\n",
    "r is the annual rate of return (7%),\n",
    "n is the number of years (10, 20 or 30) and\n",
    "a is the amount on deposit at the end of the nth year."
   ]
  },
  {
   "cell_type": "code",
   "execution_count": 11,
   "id": "58f5c47f-8efd-4a0a-99e0-0a9415cfdebb",
   "metadata": {
    "tags": []
   },
   "outputs": [
    {
     "name": "stdout",
     "output_type": "stream",
     "text": [
      "After 10 years, you'll have $1967.15\n",
      "After 20 years, you'll have $3869.68\n",
      "After 30 years, you'll have $7612.26\n"
     ]
    }
   ],
   "source": [
    "def calculate_amount_on_deposit(principal, rate, years):\n",
    "    \"\"\"\n",
    "    Calculate the amount on deposit at the end of the nth year.\n",
    "\n",
    "    Args:\n",
    "        principal (float): The original amount invested (principal).\n",
    "        rate (float): The annual rate of return as a decimal (e.g., 0.07 for 7%).\n",
    "        years (int): The number of years.\n",
    "\n",
    "    Returns:\n",
    "        float: The amount on deposit at the end of the nth year.\n",
    "    \"\"\"\n",
    "    return principal * (1 + rate) ** years\n",
    "\n",
    "\n",
    "def main():\n",
    "    principal = 1000  # Initial investment amount\n",
    "    rate_of_return = 0.07  # 7% annual rate of return\n",
    "\n",
    "    years_list = [10, 20, 30]\n",
    "    for years in years_list:\n",
    "        amount_on_deposit = calculate_amount_on_deposit(principal, rate_of_return, years)\n",
    "        print(f\"After {years} years, you'll have ${amount_on_deposit:.2f}\")\n",
    "\n",
    "\n",
    "\n",
    "main()\n"
   ]
  },
  {
   "cell_type": "code",
   "execution_count": null,
   "id": "b2886b44-c674-43fc-98d9-2a4e483d797c",
   "metadata": {},
   "outputs": [],
   "source": [
    "3.1(Validating User Input) Modify the script of Fig. 3.3 to validate its inputs. For any\n",
    "input, if the value entered is other than 1 or 2, keep looping until the user enters a correct\n",
    "value. Use one counter to keep track of the number of passes, then calculate the number\n",
    "of failures after all the user’s inputs have been received."
   ]
  },
  {
   "cell_type": "code",
   "execution_count": 5,
   "id": "c1c23282-d395-4667-9988-9c6b0684969f",
   "metadata": {
    "tags": []
   },
   "outputs": [
    {
     "name": "stdin",
     "output_type": "stream",
     "text": [
      "Enter result (1=pass, 2=fail):  1\n",
      "Enter result (1=pass, 2=fail):  2\n",
      "Enter result (1=pass, 2=fail):  1\n",
      "Enter result (1=pass, 2=fail):  2\n",
      "Enter result (1=pass, 2=fail):  3\n"
     ]
    },
    {
     "name": "stdout",
     "output_type": "stream",
     "text": [
      "Invalid input. Please enter 1 or 2.\n"
     ]
    },
    {
     "name": "stdin",
     "output_type": "stream",
     "text": [
      "Enter result (1=pass, 2=fail):  3\n"
     ]
    },
    {
     "name": "stdout",
     "output_type": "stream",
     "text": [
      "Invalid input. Please enter 1 or 2.\n"
     ]
    },
    {
     "name": "stdin",
     "output_type": "stream",
     "text": [
      "Enter result (1=pass, 2=fail):  4\n"
     ]
    },
    {
     "name": "stdout",
     "output_type": "stream",
     "text": [
      "Invalid input. Please enter 1 or 2.\n"
     ]
    },
    {
     "name": "stdin",
     "output_type": "stream",
     "text": [
      "Enter result (1=pass, 2=fail):  2\n",
      "Enter result (1=pass, 2=fail):  2\n",
      "Enter result (1=pass, 2=fail):  2\n",
      "Enter result (1=pass, 2=fail):  23\n"
     ]
    },
    {
     "name": "stdout",
     "output_type": "stream",
     "text": [
      "Invalid input. Please enter 1 or 2.\n"
     ]
    },
    {
     "name": "stdin",
     "output_type": "stream",
     "text": [
      "Enter result (1=pass, 2=fail):  2\n",
      "Enter result (1=pass, 2=fail):  8\n"
     ]
    },
    {
     "name": "stdout",
     "output_type": "stream",
     "text": [
      "Invalid input. Please enter 1 or 2.\n"
     ]
    },
    {
     "name": "stdin",
     "output_type": "stream",
     "text": [
      "Enter result (1=pass, 2=fail):  clear\n"
     ]
    },
    {
     "name": "stdout",
     "output_type": "stream",
     "text": [
      "Invalid input. Please enter an integer.\n"
     ]
    },
    {
     "ename": "KeyboardInterrupt",
     "evalue": "Interrupted by user",
     "output_type": "error",
     "traceback": [
      "\u001b[0;31m---------------------------------------------------------------------------\u001b[0m",
      "\u001b[0;31mKeyboardInterrupt\u001b[0m                         Traceback (most recent call last)",
      "Cell \u001b[0;32mIn[5], line 31\u001b[0m\n\u001b[1;32m     27\u001b[0m         \u001b[38;5;28mprint\u001b[39m(\u001b[38;5;124m'\u001b[39m\u001b[38;5;124mBonus to instructor\u001b[39m\u001b[38;5;124m'\u001b[39m)\n\u001b[1;32m     30\u001b[0m \u001b[38;5;28;01mif\u001b[39;00m \u001b[38;5;18m__name__\u001b[39m \u001b[38;5;241m==\u001b[39m \u001b[38;5;124m\"\u001b[39m\u001b[38;5;124m__main__\u001b[39m\u001b[38;5;124m\"\u001b[39m:\n\u001b[0;32m---> 31\u001b[0m     \u001b[43mmain\u001b[49m\u001b[43m(\u001b[49m\u001b[43m)\u001b[49m\n",
      "Cell \u001b[0;32mIn[5], line 9\u001b[0m, in \u001b[0;36mmain\u001b[0;34m()\u001b[0m\n\u001b[1;32m      7\u001b[0m \u001b[38;5;28;01mwhile\u001b[39;00m \u001b[38;5;28;01mTrue\u001b[39;00m:\n\u001b[1;32m      8\u001b[0m     \u001b[38;5;28;01mtry\u001b[39;00m:\n\u001b[0;32m----> 9\u001b[0m         result \u001b[38;5;241m=\u001b[39m \u001b[38;5;28mint\u001b[39m(\u001b[38;5;28;43minput\u001b[39;49m\u001b[43m(\u001b[49m\u001b[38;5;124;43m'\u001b[39;49m\u001b[38;5;124;43mEnter result (1=pass, 2=fail): \u001b[39;49m\u001b[38;5;124;43m'\u001b[39;49m\u001b[43m)\u001b[49m)\n\u001b[1;32m     10\u001b[0m         \u001b[38;5;28;01mif\u001b[39;00m result \u001b[38;5;129;01min\u001b[39;00m [\u001b[38;5;241m1\u001b[39m, \u001b[38;5;241m2\u001b[39m]:\n\u001b[1;32m     11\u001b[0m             \u001b[38;5;28;01mbreak\u001b[39;00m\n",
      "File \u001b[0;32m~/anaconda3/lib/python3.10/site-packages/ipykernel/kernelbase.py:1175\u001b[0m, in \u001b[0;36mKernel.raw_input\u001b[0;34m(self, prompt)\u001b[0m\n\u001b[1;32m   1171\u001b[0m \u001b[38;5;28;01mif\u001b[39;00m \u001b[38;5;129;01mnot\u001b[39;00m \u001b[38;5;28mself\u001b[39m\u001b[38;5;241m.\u001b[39m_allow_stdin:\n\u001b[1;32m   1172\u001b[0m     \u001b[38;5;28;01mraise\u001b[39;00m StdinNotImplementedError(\n\u001b[1;32m   1173\u001b[0m         \u001b[38;5;124m\"\u001b[39m\u001b[38;5;124mraw_input was called, but this frontend does not support input requests.\u001b[39m\u001b[38;5;124m\"\u001b[39m\n\u001b[1;32m   1174\u001b[0m     )\n\u001b[0;32m-> 1175\u001b[0m \u001b[38;5;28;01mreturn\u001b[39;00m \u001b[38;5;28;43mself\u001b[39;49m\u001b[38;5;241;43m.\u001b[39;49m\u001b[43m_input_request\u001b[49m\u001b[43m(\u001b[49m\n\u001b[1;32m   1176\u001b[0m \u001b[43m    \u001b[49m\u001b[38;5;28;43mstr\u001b[39;49m\u001b[43m(\u001b[49m\u001b[43mprompt\u001b[49m\u001b[43m)\u001b[49m\u001b[43m,\u001b[49m\n\u001b[1;32m   1177\u001b[0m \u001b[43m    \u001b[49m\u001b[38;5;28;43mself\u001b[39;49m\u001b[38;5;241;43m.\u001b[39;49m\u001b[43m_parent_ident\u001b[49m\u001b[43m[\u001b[49m\u001b[38;5;124;43m\"\u001b[39;49m\u001b[38;5;124;43mshell\u001b[39;49m\u001b[38;5;124;43m\"\u001b[39;49m\u001b[43m]\u001b[49m\u001b[43m,\u001b[49m\n\u001b[1;32m   1178\u001b[0m \u001b[43m    \u001b[49m\u001b[38;5;28;43mself\u001b[39;49m\u001b[38;5;241;43m.\u001b[39;49m\u001b[43mget_parent\u001b[49m\u001b[43m(\u001b[49m\u001b[38;5;124;43m\"\u001b[39;49m\u001b[38;5;124;43mshell\u001b[39;49m\u001b[38;5;124;43m\"\u001b[39;49m\u001b[43m)\u001b[49m\u001b[43m,\u001b[49m\n\u001b[1;32m   1179\u001b[0m \u001b[43m    \u001b[49m\u001b[43mpassword\u001b[49m\u001b[38;5;241;43m=\u001b[39;49m\u001b[38;5;28;43;01mFalse\u001b[39;49;00m\u001b[43m,\u001b[49m\n\u001b[1;32m   1180\u001b[0m \u001b[43m\u001b[49m\u001b[43m)\u001b[49m\n",
      "File \u001b[0;32m~/anaconda3/lib/python3.10/site-packages/ipykernel/kernelbase.py:1217\u001b[0m, in \u001b[0;36mKernel._input_request\u001b[0;34m(self, prompt, ident, parent, password)\u001b[0m\n\u001b[1;32m   1214\u001b[0m             \u001b[38;5;28;01mbreak\u001b[39;00m\n\u001b[1;32m   1215\u001b[0m \u001b[38;5;28;01mexcept\u001b[39;00m \u001b[38;5;167;01mKeyboardInterrupt\u001b[39;00m:\n\u001b[1;32m   1216\u001b[0m     \u001b[38;5;66;03m# re-raise KeyboardInterrupt, to truncate traceback\u001b[39;00m\n\u001b[0;32m-> 1217\u001b[0m     \u001b[38;5;28;01mraise\u001b[39;00m \u001b[38;5;167;01mKeyboardInterrupt\u001b[39;00m(\u001b[38;5;124m\"\u001b[39m\u001b[38;5;124mInterrupted by user\u001b[39m\u001b[38;5;124m\"\u001b[39m) \u001b[38;5;28;01mfrom\u001b[39;00m \u001b[38;5;28;01mNone\u001b[39;00m\n\u001b[1;32m   1218\u001b[0m \u001b[38;5;28;01mexcept\u001b[39;00m \u001b[38;5;167;01mException\u001b[39;00m:\n\u001b[1;32m   1219\u001b[0m     \u001b[38;5;28mself\u001b[39m\u001b[38;5;241m.\u001b[39mlog\u001b[38;5;241m.\u001b[39mwarning(\u001b[38;5;124m\"\u001b[39m\u001b[38;5;124mInvalid Message:\u001b[39m\u001b[38;5;124m\"\u001b[39m, exc_info\u001b[38;5;241m=\u001b[39m\u001b[38;5;28;01mTrue\u001b[39;00m)\n",
      "\u001b[0;31mKeyboardInterrupt\u001b[0m: Interrupted by user"
     ]
    }
   ],
   "source": [
    "def main():\n",
    "    passes = 0  # number of passes\n",
    "    failures = 0  # number of failures\n",
    "\n",
    "    # Process 10 students\n",
    "    for student in range(10):\n",
    "        while True:\n",
    "            try:\n",
    "                result = int(input('Enter result (1=pass, 2=fail): '))\n",
    "                if result in [1, 2]:\n",
    "                    break\n",
    "                else:\n",
    "                    print(\"Invalid input. Please enter 1 or 2.\")\n",
    "            except ValueError:\n",
    "                print(\"Invalid input. Please enter an integer.\")\n",
    "\n",
    "        if result == 1:\n",
    "            passes += 1\n",
    "        else:\n",
    "            failures += 1\n",
    "\n",
    "    # Termination phase\n",
    "    print('Passed:', passes)\n",
    "    print('Failed:', failures)\n",
    "\n",
    "    if passes > 8:\n",
    "        print('Bonus to instructor')\n",
    "\n",
    "\n",
    "if __name__ == \"__main__\":\n",
    "    main()\n"
   ]
  },
  {
   "cell_type": "code",
   "execution_count": null,
   "id": "fdb3f230-b8c5-4e49-b333-903ef4d05d05",
   "metadata": {},
   "outputs": [],
   "source": [
    "3.7(Table of Squares and Cubes) In Exercise 2.8, you wrote a script to calculate the\n",
    "squares and cubes of the numbers from 0 through 5, then printed the resulting values in\n",
    "table format. Reimplement your script using a for loop and the f-string capabilities you\n",
    "learned in this chapter to produce the following table with the numbers right aligned in\n",
    "each column."
   ]
  },
  {
   "cell_type": "code",
   "execution_count": 9,
   "id": "dde10cb1-9bc9-45c3-84aa-25f067404050",
   "metadata": {
    "tags": []
   },
   "outputs": [
    {
     "name": "stdout",
     "output_type": "stream",
     "text": [
      "Number\tSquare\tCube\n",
      "---------------------\n",
      "     0\t     0\t   0\n",
      "     1\t     1\t   1\n",
      "     2\t     4\t   8\n",
      "     3\t     9\t  27\n",
      "     4\t    16\t  64\n",
      "     5\t    25\t 125\n"
     ]
    }
   ],
   "source": [
    "def main():\n",
    "    print(\"Number\\tSquare\\tCube\")\n",
    "    print(\"---------------------\")\n",
    "\n",
    "    for number in range(6):\n",
    "        square = number ** 2\n",
    "        cube = number ** 3\n",
    "        print(f\"{number:>6}\\t{square:>6}\\t{cube:>4}\")\n",
    "\n",
    "\n",
    "\n",
    "main()\n"
   ]
  },
  {
   "cell_type": "code",
   "execution_count": null,
   "id": "58e7dcc9-46fd-4079-b925-d7daf74bce79",
   "metadata": {},
   "outputs": [],
   "source": [
    "3.8(Arithmetic, Smallest and Largest) In Exercise 2.10, you wrote a script that input\n",
    "\n",
    "three integers, then displayed the sum, average, product, smallest and largest of those val-\n",
    "ues. Reimplement your script with a loop that inputs four integers."
   ]
  },
  {
   "cell_type": "code",
   "execution_count": 13,
   "id": "3b4541ec-2343-408d-a3e0-48948603915c",
   "metadata": {
    "tags": []
   },
   "outputs": [
    {
     "name": "stdin",
     "output_type": "stream",
     "text": [
      "Enter integer 1:  3\n",
      "Enter integer 2:  4\n",
      "Enter integer 3:  5\n",
      "Enter integer 4:  2\n"
     ]
    },
    {
     "name": "stdout",
     "output_type": "stream",
     "text": [
      "Sum: 14\n",
      "Average: 3.50\n",
      "Product: 120\n",
      "Smallest: 2\n",
      "Largest: 5\n"
     ]
    }
   ],
   "source": [
    "def main():\n",
    "    num_count = 4\n",
    "    numbers = []\n",
    "\n",
    "    for i in range(num_count):\n",
    "        while True:\n",
    "            try:\n",
    "                number = int(input(f\"Enter integer {i + 1}: \"))\n",
    "                numbers.append(number)\n",
    "                break\n",
    "            except ValueError:\n",
    "                print(\"Invalid input. Please enter an integer.\")\n",
    "\n",
    "    total_sum = sum(numbers)\n",
    "    average = total_sum / num_count\n",
    "    product = 1\n",
    "    smallest = float('inf')\n",
    "    largest = float('-inf')\n",
    "\n",
    "    for num in numbers:\n",
    "        product *= num\n",
    "        if num < smallest:\n",
    "            smallest = num\n",
    "        if num > largest:\n",
    "            largest = num\n",
    "\n",
    "    print(f\"Sum: {total_sum}\")\n",
    "    print(f\"Average: {average:.2f}\")\n",
    "    print(f\"Product: {product}\")\n",
    "    print(f\"Smallest: {smallest}\")\n",
    "    print(f\"Largest: {largest}\")\n",
    "\n",
    "\n",
    "\n",
    "main()\n"
   ]
  },
  {
   "cell_type": "code",
   "execution_count": null,
   "id": "77124828-3814-4e38-8e3e-6d137fc796f2",
   "metadata": {},
   "outputs": [],
   "source": [
    "3.10 (7% Investment Return) Reimplement Exercise 2.12 to use a loop that calculates\n",
    "and displays the amount of money you’ll have each year at the ends of years 1 through 30. \n",
    "\n",
    "exercise2.12\"(7% Investment Return) Some investment advisors say that it’s reasonable to ex-\n",
    "pect a 7% return over the long term in the stock market. Assuming that you begin with\n",
    "$1000 and leave your money invested, calculate and display how much money you’ll have\n",
    "after 10, 20 and 30 years. Use the following formula for determining these amounts:\n",
    "a = p(1 + r)^n\""
   ]
  },
  {
   "cell_type": "code",
   "execution_count": 15,
   "id": "941d5b3c-eeb6-4af5-934d-4dd6ea96e06c",
   "metadata": {
    "tags": []
   },
   "outputs": [
    {
     "name": "stdout",
     "output_type": "stream",
     "text": [
      "Year\tAmount on Deposit\n",
      "------------------------\n",
      "1\t$1070.00\n",
      "2\t$1144.90\n",
      "3\t$1225.04\n",
      "4\t$1310.80\n",
      "5\t$1402.55\n",
      "6\t$1500.73\n",
      "7\t$1605.78\n",
      "8\t$1718.19\n",
      "9\t$1838.46\n",
      "10\t$1967.15\n",
      "11\t$2104.85\n",
      "12\t$2252.19\n",
      "13\t$2409.85\n",
      "14\t$2578.53\n",
      "15\t$2759.03\n",
      "16\t$2952.16\n",
      "17\t$3158.82\n",
      "18\t$3379.93\n",
      "19\t$3616.53\n",
      "20\t$3869.68\n",
      "21\t$4140.56\n",
      "22\t$4430.40\n",
      "23\t$4740.53\n",
      "24\t$5072.37\n",
      "25\t$5427.43\n",
      "26\t$5807.35\n",
      "27\t$6213.87\n",
      "28\t$6648.84\n",
      "29\t$7114.26\n",
      "30\t$7612.26\n"
     ]
    }
   ],
   "source": [
    "def main():\n",
    "    principal = 1000  # Initial investment amount\n",
    "    rate_of_return = 0.07  # 7% annual rate of return\n",
    "\n",
    "    years_list = range(1, 31)  # Years from 1 to 30\n",
    "\n",
    "    print(\"Year\\tAmount on Deposit\")\n",
    "    print(\"------------------------\")\n",
    "\n",
    "    for year in years_list:\n",
    "        amount_on_deposit = principal * (1 + rate_of_return) ** year\n",
    "        print(f\"{year}\\t${amount_on_deposit:.2f}\")\n",
    "\n",
    "\n",
    "\n",
    "main()\n"
   ]
  },
  {
   "cell_type": "code",
   "execution_count": null,
   "id": "ac34d2d7-6b96-47f1-aefd-3ffc62f90c62",
   "metadata": {},
   "outputs": [],
   "source": [
    "3.16(Nested Control Statements) Use a loop to find the two largest values of 10 num-\n",
    "bers entered."
   ]
  },
  {
   "cell_type": "code",
   "execution_count": 16,
   "id": "ce16006c-669b-4bbd-9ae0-5a202d3a03df",
   "metadata": {
    "tags": []
   },
   "outputs": [
    {
     "name": "stdin",
     "output_type": "stream",
     "text": [
      "Enter number 1:  4\n",
      "Enter number 2:  5\n",
      "Enter number 3:  6\n",
      "Enter number 4:  4\n",
      "Enter number 5:  1\n",
      "Enter number 6:  6\n",
      "Enter number 7:  7\n",
      "Enter number 8:  8\n",
      "Enter number 9:  9\n",
      "Enter number 10:  12\n"
     ]
    },
    {
     "name": "stdout",
     "output_type": "stream",
     "text": [
      "The two largest numbers are: 12.0 and 9.0\n"
     ]
    }
   ],
   "source": [
    "def main():\n",
    "    largest1 = float('-inf')  # Initialize the first largest number to negative infinity\n",
    "    largest2 = float('-inf')  # Initialize the second largest number to negative infinity\n",
    "\n",
    "    for i in range(10):\n",
    "        while True:\n",
    "            try:\n",
    "                number = float(input(f\"Enter number {i + 1}: \"))\n",
    "                break\n",
    "            except ValueError:\n",
    "                print(\"Invalid input. Please enter a valid number.\")\n",
    "\n",
    "        if number >= largest1:\n",
    "            largest2 = largest1\n",
    "            largest1 = number\n",
    "        elif number > largest2:\n",
    "            largest2 = number\n",
    "\n",
    "    print(f\"The two largest numbers are: {largest1} and {largest2}\")\n",
    "\n",
    "main()\n"
   ]
  },
  {
   "cell_type": "code",
   "execution_count": null,
   "id": "c5d14092-d6ea-49ee-bb8c-d527a10ab988",
   "metadata": {},
   "outputs": [],
   "source": [
    "4.8(Rounding Numbers) Investigate built-in function round at\n",
    "https://docs.python.org/3/library/functions.html#round\n",
    "then use it to round the float value 13.56449 to the nearest integer, tenths, hundredths\n",
    "and thousandths positions."
   ]
  },
  {
   "cell_type": "code",
   "execution_count": 17,
   "id": "d30e6fa5-628e-451e-b097-128bc7d651b0",
   "metadata": {
    "tags": []
   },
   "outputs": [
    {
     "name": "stdout",
     "output_type": "stream",
     "text": [
      "Rounded to the nearest integer: 14\n",
      "Rounded to the nearest tenths: 13.6\n",
      "Rounded to the nearest hundredths: 13.56\n",
      "Rounded to the nearest thousandths: 13.564\n"
     ]
    }
   ],
   "source": [
    "number = 13.56449\n",
    "\n",
    "# Round to the nearest integer (default)\n",
    "rounded_nearest_integer = round(number)\n",
    "print(\"Rounded to the nearest integer:\", rounded_nearest_integer)\n",
    "\n",
    "# Round to the nearest tenths (one decimal place)\n",
    "rounded_tenths = round(number, 1)\n",
    "print(\"Rounded to the nearest tenths:\", rounded_tenths)\n",
    "\n",
    "# Round to the nearest hundredths (two decimal places)\n",
    "rounded_hundredths = round(number, 2)\n",
    "print(\"Rounded to the nearest hundredths:\", rounded_hundredths)\n",
    "\n",
    "# Round to the nearest thousandths (three decimal places)\n",
    "rounded_thousandths = round(number, 3)\n",
    "print(\"Rounded to the nearest thousandths:\", rounded_thousandths)\n"
   ]
  },
  {
   "cell_type": "code",
   "execution_count": null,
   "id": "42b10853-f3db-4d49-b6e8-10f791a5607a",
   "metadata": {},
   "outputs": [],
   "source": [
    "4.9(Temperature Conversion) Implement a fahrenheit function that returns the\n",
    "Fahrenheit equivalent of a Celsius temperature. Use the following formula:\n",
    "F = (9 / 5) * C + 32\n",
    "\n",
    "Use this function to print a chart showing the Fahrenheit equivalents of all Celsius tem-\n",
    "peratures in the range 0–100 degrees. Use one digit of precision for the results. Print the\n",
    "\n",
    "outputs in a neat tabular format."
   ]
  },
  {
   "cell_type": "code",
   "execution_count": 19,
   "id": "fde5d2c8-0483-41fc-941e-e3f57af2d014",
   "metadata": {
    "tags": []
   },
   "outputs": [
    {
     "name": "stdout",
     "output_type": "stream",
     "text": [
      "Celsius\tFahrenheit\n",
      "-------------------\n",
      "0\t32.0\n",
      "1\t33.8\n",
      "2\t35.6\n",
      "3\t37.4\n",
      "4\t39.2\n",
      "5\t41.0\n",
      "6\t42.8\n",
      "7\t44.6\n",
      "8\t46.4\n",
      "9\t48.2\n",
      "10\t50.0\n",
      "11\t51.8\n",
      "12\t53.6\n",
      "13\t55.4\n",
      "14\t57.2\n",
      "15\t59.0\n",
      "16\t60.8\n",
      "17\t62.6\n",
      "18\t64.4\n",
      "19\t66.2\n",
      "20\t68.0\n",
      "21\t69.8\n",
      "22\t71.6\n",
      "23\t73.4\n",
      "24\t75.2\n",
      "25\t77.0\n",
      "26\t78.8\n",
      "27\t80.6\n",
      "28\t82.4\n",
      "29\t84.2\n",
      "30\t86.0\n",
      "31\t87.8\n",
      "32\t89.6\n",
      "33\t91.4\n",
      "34\t93.2\n",
      "35\t95.0\n",
      "36\t96.8\n",
      "37\t98.6\n",
      "38\t100.4\n",
      "39\t102.2\n",
      "40\t104.0\n",
      "41\t105.8\n",
      "42\t107.6\n",
      "43\t109.4\n",
      "44\t111.2\n",
      "45\t113.0\n",
      "46\t114.8\n",
      "47\t116.6\n",
      "48\t118.4\n",
      "49\t120.2\n",
      "50\t122.0\n",
      "51\t123.8\n",
      "52\t125.6\n",
      "53\t127.4\n",
      "54\t129.2\n",
      "55\t131.0\n",
      "56\t132.8\n",
      "57\t134.6\n",
      "58\t136.4\n",
      "59\t138.2\n",
      "60\t140.0\n",
      "61\t141.8\n",
      "62\t143.6\n",
      "63\t145.4\n",
      "64\t147.2\n",
      "65\t149.0\n",
      "66\t150.8\n",
      "67\t152.6\n",
      "68\t154.4\n",
      "69\t156.2\n",
      "70\t158.0\n",
      "71\t159.8\n",
      "72\t161.6\n",
      "73\t163.4\n",
      "74\t165.2\n",
      "75\t167.0\n",
      "76\t168.8\n",
      "77\t170.6\n",
      "78\t172.4\n",
      "79\t174.2\n",
      "80\t176.0\n",
      "81\t177.8\n",
      "82\t179.6\n",
      "83\t181.4\n",
      "84\t183.2\n",
      "85\t185.0\n",
      "86\t186.8\n",
      "87\t188.6\n",
      "88\t190.4\n",
      "89\t192.2\n",
      "90\t194.0\n",
      "91\t195.8\n",
      "92\t197.6\n",
      "93\t199.4\n",
      "94\t201.2\n",
      "95\t203.0\n",
      "96\t204.8\n",
      "97\t206.6\n",
      "98\t208.4\n",
      "99\t210.2\n",
      "100\t212.0\n"
     ]
    }
   ],
   "source": [
    "def celsius_to_fahrenheit(celsius):\n",
    "    \"\"\"\n",
    "    Convert Celsius to Fahrenheit.\n",
    "\n",
    "    Args:\n",
    "        celsius (float): The temperature in Celsius.\n",
    "\n",
    "    Returns:\n",
    "        float: The temperature in Fahrenheit.\n",
    "    \"\"\"\n",
    "    return (9 / 5) * celsius + 32\n",
    "\n",
    "\n",
    "def main():\n",
    "    print(\"Celsius\\tFahrenheit\")\n",
    "    print(\"-------------------\")\n",
    "\n",
    "    for celsius in range(101):\n",
    "        fahrenheit = celsius_to_fahrenheit(celsius)\n",
    "        print(f\"{celsius}\\t{fahrenheit:.1f}\")\n",
    "\n",
    "\n",
    "main()\n"
   ]
  },
  {
   "cell_type": "code",
   "execution_count": null,
   "id": "2f9e7f80-bc73-47b2-9106-7ff9f1249557",
   "metadata": {},
   "outputs": [],
   "source": [
    "4.10(Guess the Number) Write a script that plays “guess the number.” Choose the\n",
    "number to be guessed by selecting a random integer in the range 1 to 1000. Do not reveal\n",
    "this number to the user. Display the prompt \"Guess my number between 1 and 1000 with\n",
    "the fewest guesses:\". The player inputs a first guess. If the guess is incorrect, display\n",
    "\"Too high. Try again.\" or \"Too low. Try again.\" as appropriate to help the player “zero\n",
    "in” on the correct answer, then prompt the user for the next guess. When the user enters\n",
    "the correct answer, display \"Congratulations. You guessed the number!\", and allow the\n",
    "user to choose whether to play again."
   ]
  },
  {
   "cell_type": "code",
   "execution_count": 21,
   "id": "05facee0-1000-408e-9728-5815bc339acb",
   "metadata": {
    "tags": []
   },
   "outputs": [
    {
     "name": "stdout",
     "output_type": "stream",
     "text": [
      "Guess my number between 1 and 1000 with the fewest guesses:\n"
     ]
    },
    {
     "name": "stdin",
     "output_type": "stream",
     "text": [
      "Enter your guess:  500\n"
     ]
    },
    {
     "name": "stdout",
     "output_type": "stream",
     "text": [
      "Too low. Try again.\n"
     ]
    },
    {
     "name": "stdin",
     "output_type": "stream",
     "text": [
      "Enter your guess:  900\n"
     ]
    },
    {
     "name": "stdout",
     "output_type": "stream",
     "text": [
      "Too high. Try again.\n"
     ]
    },
    {
     "name": "stdin",
     "output_type": "stream",
     "text": [
      "Enter your guess:  700\n"
     ]
    },
    {
     "name": "stdout",
     "output_type": "stream",
     "text": [
      "Too high. Try again.\n"
     ]
    },
    {
     "name": "stdin",
     "output_type": "stream",
     "text": [
      "Enter your guess:  600\n"
     ]
    },
    {
     "name": "stdout",
     "output_type": "stream",
     "text": [
      "Too low. Try again.\n"
     ]
    },
    {
     "name": "stdin",
     "output_type": "stream",
     "text": [
      "Enter your guess:  650\n"
     ]
    },
    {
     "name": "stdout",
     "output_type": "stream",
     "text": [
      "Too high. Try again.\n"
     ]
    },
    {
     "name": "stdin",
     "output_type": "stream",
     "text": [
      "Enter your guess:  625\n"
     ]
    },
    {
     "name": "stdout",
     "output_type": "stream",
     "text": [
      "Too high. Try again.\n"
     ]
    },
    {
     "name": "stdin",
     "output_type": "stream",
     "text": [
      "Enter your guess:  615\n"
     ]
    },
    {
     "name": "stdout",
     "output_type": "stream",
     "text": [
      "Too high. Try again.\n"
     ]
    },
    {
     "name": "stdin",
     "output_type": "stream",
     "text": [
      "Enter your guess:  610\n"
     ]
    },
    {
     "name": "stdout",
     "output_type": "stream",
     "text": [
      "Too low. Try again.\n"
     ]
    },
    {
     "name": "stdin",
     "output_type": "stream",
     "text": [
      "Enter your guess:  611\n"
     ]
    },
    {
     "name": "stdout",
     "output_type": "stream",
     "text": [
      "Too low. Try again.\n"
     ]
    },
    {
     "name": "stdin",
     "output_type": "stream",
     "text": [
      "Enter your guess:  613\n"
     ]
    },
    {
     "name": "stdout",
     "output_type": "stream",
     "text": [
      "Too low. Try again.\n"
     ]
    },
    {
     "name": "stdin",
     "output_type": "stream",
     "text": [
      "Enter your guess:  614\n"
     ]
    },
    {
     "name": "stdout",
     "output_type": "stream",
     "text": [
      "Congratulations. You guessed the number!\n",
      "Number of attempts: 11\n"
     ]
    },
    {
     "name": "stdin",
     "output_type": "stream",
     "text": [
      "Do you want to play again? (yes or no):  no\n"
     ]
    },
    {
     "name": "stdout",
     "output_type": "stream",
     "text": [
      "Thank you for playing!\n"
     ]
    }
   ],
   "source": [
    "import random\n",
    "\n",
    "def play_guess_the_number():\n",
    "    lower_limit = 1\n",
    "    upper_limit = 1000\n",
    "    secret_number = random.randint(lower_limit, upper_limit)\n",
    "    attempts = 0\n",
    "\n",
    "    print(f\"Guess my number between {lower_limit} and {upper_limit} with the fewest guesses:\")\n",
    "\n",
    "    while True:\n",
    "        try:\n",
    "            guess = int(input(\"Enter your guess: \"))\n",
    "        except ValueError:\n",
    "            print(\"Invalid input. Please enter an integer.\")\n",
    "            continue\n",
    "\n",
    "        attempts += 1\n",
    "\n",
    "        if guess == secret_number:\n",
    "            print(\"Congratulations. You guessed the number!\")\n",
    "            break\n",
    "        elif guess < secret_number:\n",
    "            print(\"Too low. Try again.\")\n",
    "        else:\n",
    "            print(\"Too high. Try again.\")\n",
    "\n",
    "    print(f\"Number of attempts: {attempts}\")\n",
    "\n",
    "    play_again = input(\"Do you want to play again? (yes or no): \")\n",
    "    if play_again.lower() == \"yes\":\n",
    "        play_guess_the_number()\n",
    "    else:\n",
    "        print(\"Thank you for playing!\")\n",
    "\n",
    "\n",
    "play_guess_the_number()\n"
   ]
  },
  {
   "cell_type": "code",
   "execution_count": null,
   "id": "ef05f468-fd36-4225-81b4-2f70f7c7c23f",
   "metadata": {},
   "outputs": [],
   "source": [
    "5.5(IPython Session: Slicing) Create a string called alphabet containing 'abcdefghi-\n",
    "jklmnopqrstuvwxyz', then perform the following separate slice operations to obtain:\n",
    "\n",
    "a) The first half of the string using starting and ending indices.\n",
    "b) The first half of the string using only the ending index.\n",
    "c) The second half of the string using starting and ending indices.\n",
    "d) The second half of the string using only the starting index.\n",
    "e) Every second letter in the string starting with 'a'.\n",
    "f) The entire string in reverse.\n",
    "g) Every third letter of the string in reverse starting with 'z'."
   ]
  },
  {
   "cell_type": "code",
   "execution_count": 22,
   "id": "cef5d448-a963-4023-8bea-974d0f096e7a",
   "metadata": {
    "tags": []
   },
   "outputs": [
    {
     "name": "stdout",
     "output_type": "stream",
     "text": [
      "a) First half of the string: abcdefghijklm\n",
      "b) First half of the string (using only the ending index): abcdefghijklm\n",
      "c) Second half of the string: nopqrstuvwxyz\n",
      "d) Second half of the string (using only the starting index): nopqrstuvwxyz\n",
      "e) Every second letter in the string starting with 'a': acegikmoqsuwy\n",
      "f) The entire string in reverse: zyxwvutsrqponmlkjihgfedcba\n",
      "g) Every third letter of the string in reverse starting with 'z': zwtqnkheb\n"
     ]
    }
   ],
   "source": [
    "alphabet = 'abcdefghijklmnopqrstuvwxyz'\n",
    "\n",
    "# a) The first half of the string using starting and ending indices.\n",
    "first_half_start = 0\n",
    "first_half_end = len(alphabet) // 2\n",
    "first_half = alphabet[first_half_start:first_half_end]\n",
    "print(\"a) First half of the string:\", first_half)\n",
    "\n",
    "# b) The first half of the string using only the ending index.\n",
    "first_half_ending_index = len(alphabet) // 2\n",
    "first_half_only_ending = alphabet[:first_half_ending_index]\n",
    "print(\"b) First half of the string (using only the ending index):\", first_half_only_ending)\n",
    "\n",
    "# c) The second half of the string using starting and ending indices.\n",
    "second_half_start = len(alphabet) // 2\n",
    "second_half_end = len(alphabet)\n",
    "second_half = alphabet[second_half_start:second_half_end]\n",
    "print(\"c) Second half of the string:\", second_half)\n",
    "\n",
    "# d) The second half of the string using only the starting index.\n",
    "second_half_start_only = alphabet[second_half_start:]\n",
    "print(\"d) Second half of the string (using only the starting index):\", second_half_start_only)\n",
    "\n",
    "# e) Every second letter in the string starting with 'a'.\n",
    "every_second_letter = alphabet[::2]\n",
    "print(\"e) Every second letter in the string starting with 'a':\", every_second_letter)\n",
    "\n",
    "# f) The entire string in reverse.\n",
    "entire_string_reverse = alphabet[::-1]\n",
    "print(\"f) The entire string in reverse:\", entire_string_reverse)\n",
    "\n",
    "# g) Every third letter of the string in reverse starting with 'z'.\n",
    "every_third_letter_reverse = alphabet[::-3]\n",
    "print(\"g) Every third letter of the string in reverse starting with 'z':\", every_third_letter_reverse)\n"
   ]
  },
  {
   "cell_type": "code",
   "execution_count": null,
   "id": "d6270d7a-624a-469b-af27-e952f077b12e",
   "metadata": {},
   "outputs": [],
   "source": []
  }
 ],
 "metadata": {
  "kernelspec": {
   "display_name": "Python 3 (ipykernel)",
   "language": "python",
   "name": "python3"
  },
  "language_info": {
   "codemirror_mode": {
    "name": "ipython",
    "version": 3
   },
   "file_extension": ".py",
   "mimetype": "text/x-python",
   "name": "python",
   "nbconvert_exporter": "python",
   "pygments_lexer": "ipython3",
   "version": "3.10.9"
  }
 },
 "nbformat": 4,
 "nbformat_minor": 5
}
