{
 "cells": [
  {
   "cell_type": "markdown",
   "id": "a90e0d72-7e4b-48fb-8c62-825e4cd921bf",
   "metadata": {},
   "source": [
    "# Week 1 Problem Set\n",
    "\n",
    "# grade 87"
   ]
  },
  {
   "cell_type": "markdown",
   "id": "b1dfd602-8c85-4e88-841b-351f487b7fe5",
   "metadata": {},
   "source": [
    "Each week you will have a problem set due on Sunday night before midnight.\n",
    "You will download a template Jupyter notebook file (like this one) and complete all of your work in the file then save it with your last name in the following format:\n",
    "lastname_week1.ipynb for example I would submit Zematis_week1.ipynb  "
   ]
  },
  {
   "cell_type": "markdown",
   "id": "c4f1f728-d90a-49d5-b7d8-edc10b4181a2",
   "metadata": {},
   "source": [
    "1. Create the variables x = 5 and y = 3, then determine what each of the following statements displays:\n",
    "> print('x =', x)\n",
    ">\n",
    "> print('Value of', x, '+', x, 'is', (x + x))\n",
    ">\n",
    "> print('x =')\n",
    ">\n",
    "> print((x + y), 'x =', (y + x))"
   ]
  },
  {
   "cell_type": "code",
   "execution_count": null,
   "id": "9e7e055d-91f7-4742-a888-dbce4e0cea82",
   "metadata": {},
   "outputs": [],
   "source": [
    "# Code for Problem 1\n",
    "x = 5\n",
    "y = 3\n"
   ]
  },
  {
   "cell_type": "code",
   "execution_count": null,
   "id": "6ee82ab6-f87a-4867-a948-3bc5a79bbf7e",
   "metadata": {},
   "outputs": [],
   "source": [
    "print('x =', x)\n",
    "# x = 5\n",
    "print('Value of', x, '+', x, 'is', (x + x))\n",
    "# Value of 5 + 5 is 10\n",
    "print('x =')\n",
    "# x =\n",
    "print((x + y), 'x =', (y + x))\n",
    "# 8 x = 8 "
   ]
  },
  {
   "cell_type": "markdown",
   "id": "7d4ade26-f838-4d75-8ec4-93305fccc728",
   "metadata": {},
   "source": [
    "2. For each of the arithmetic operators +, -, *, /, // and **, display the value of an expression with 27.5 as the left operand and 2 as the right operand."
   ]
  },
  {
   "cell_type": "code",
   "execution_count": null,
   "id": "dc3be189-1cbe-4cbf-868b-de6e52f48e61",
   "metadata": {},
   "outputs": [],
   "source": [
    "# Code for Problem 2\n",
    "print(27.5 + 2)\n",
    "print(27.5 - 2)\n",
    "print(27.5 * 2)\n",
    "print(27.5 / 2)\n",
    "print(27.5 // 2)\n",
    "print(27.5 ** 2)"
   ]
  },
  {
   "cell_type": "markdown",
   "id": "a5f48192-5e61-42f3-a8e0-8da686e2b8ac",
   "metadata": {},
   "source": [
    "3. (Table of Squares and Cubes) Write a script that calculates the squares and cubes of the numbers from 0 to 5. Print the resulting values in table format, as shown below. Use the tab escape sequence to achieve the three-column output.\n",
    "(See figure 1.1)"
   ]
  },
  {
   "cell_type": "code",
   "execution_count": 6,
   "id": "e26c0bf3-2551-42d5-a5da-01593bf0031f",
   "metadata": {},
   "outputs": [
    {
     "name": "stdout",
     "output_type": "stream",
     "text": [
      "0 squared is 0\n",
      "0 cubed is 0\n",
      "1 squared is 1\n",
      "1 cubed is 1\n",
      "2 squared is 4\n",
      "2 cubed is 8\n",
      "3 squared is 9\n",
      "3 cubed is 27\n",
      "4 squared is 16\n",
      "4 cubed is 64\n",
      "5 squared is 25\n",
      "5 cubed is 125\n"
     ]
    }
   ],
   "source": [
    "# Code for Problem 3\n",
    "for num in [0,1,2,3,4,5]:\n",
    "    print(num,\"squared is\",num**2)\n",
    "    print(num, \"cubed is\",num**3)\n",
    "    \n",
    "## you should print a table format but not list  grade:-3\n",
    "## table format:\n",
    "## number  square   cube\n",
    "##   0        0       0\n",
    "##   1        1       1\n",
    "##   2        4       6"
   ]
  },
  {
   "cell_type": "markdown",
   "id": "ecaaea2b-0c64-46ce-8ba1-fb7e9ed4b0f5",
   "metadata": {},
   "source": [
    "4. The S&P 500 average return over the past 30 years has been 9.4%. Assuming that you begin with \\$1000 and leave your money invested, calculate and display how much money you’ll have after 10, 20 and 30 years. Use the following formula for determining these amounts:\n",
    "> a = p(1 + r)n where,\n",
    ">\n",
    "> p is the original amount invested (i.e., the principal of $1000),\n",
    ">\n",
    "> r is the annual rate of return (9.4%),\n",
    ">\n",
    "> n is the number of years (10, 20 or 30) and\n",
    ">\n",
    "> a is the amount on deposit at the end of the nth year.\n"
   ]
  },
  {
   "cell_type": "code",
   "execution_count": 7,
   "id": "7c9afdbb-7562-4bc6-9f60-5db12ed8d94d",
   "metadata": {},
   "outputs": [
    {
     "name": "stdout",
     "output_type": "stream",
     "text": [
      "$ 2455.69 is the money you have after 10 years\n",
      "$ 6030.4 is the money you have after 20 years\n",
      "$ 14808.79 is the money you have after 30 years\n"
     ]
    }
   ],
   "source": [
    "# Code for Problem 4\n",
    "p=1000\n",
    "r=.094\n",
    "\n",
    "for n in [10,20,30]:\n",
    "    a=p*(1+r)**n\n",
    "    a=round(a,2)\n",
    "    print(\"$\",a,\"is the money you have after\", n, \"years\")"
   ]
  },
  {
   "cell_type": "markdown",
   "id": "af890c13-41eb-4163-94cd-1cc064fffaae",
   "metadata": {},
   "source": [
    "5. Modify the code in Problem 4 above to ask the user for input for the values p, r, and n rather than ‘hard coding’ the values."
   ]
  },
  {
   "cell_type": "code",
   "execution_count": 8,
   "id": "ad3ad668-024e-4841-aaa8-e500c5a9435e",
   "metadata": {},
   "outputs": [
    {
     "name": "stdin",
     "output_type": "stream",
     "text": [
      "Enter the prinicple:  1000\n",
      "Enter the rate of return as a decimal:  0.05\n",
      "Enter a year one:  19\n",
      "Enter a year two:  11\n",
      "Enter a year three:  13\n"
     ]
    },
    {
     "name": "stdout",
     "output_type": "stream",
     "text": [
      "$ 2526.95 is the money you have after 19 years\n",
      "$ 1710.34 is the money you have after 11 years\n",
      "$ 1885.65 is the money you have after 13 years\n"
     ]
    }
   ],
   "source": [
    "# Code for Problem 5\n",
    "p = float(input(\"Enter the prinicple: \"))\n",
    "r = float(input(\"Enter the rate of return as a decimal: \"))\n",
    "y1 = int(input(\"Enter a year one: \"))\n",
    "y2 = int(input(\"Enter a year two: \"))\n",
    "y3 = int(input(\"Enter a year three: \"))\n",
    "\n",
    "for n in [y1,y2,y3]:\n",
    "    a=p*(1+r)**n\n",
    "    a=round(a,2)\n",
    "    print(\"$\",a,\"is the money you have after\", n, \"years\")"
   ]
  },
  {
   "cell_type": "markdown",
   "id": "797838a4-0ee9-4f15-a5ad-5f0dc6339ef1",
   "metadata": {},
   "source": [
    "6. Using code similar to Fig. 3.2 in the textbook, write a script that will let users input grades between 0-100 and evaluate the grade based on a A, B, C, D, F grade scale. Use sentinel-controlled Iteration to stop the process."
   ]
  },
  {
   "cell_type": "code",
   "execution_count": 2,
   "id": "267aa130-ba0e-4511-97a9-edefdf41df80",
   "metadata": {
    "tags": []
   },
   "outputs": [
    {
     "name": "stdin",
     "output_type": "stream",
     "text": [
      "Enter the number of grades:  4\n",
      "Enter a grade:  43\n"
     ]
    },
    {
     "name": "stdout",
     "output_type": "stream",
     "text": [
      "F\n"
     ]
    },
    {
     "name": "stdin",
     "output_type": "stream",
     "text": [
      "Enter a grade:  90\n"
     ]
    },
    {
     "name": "stdout",
     "output_type": "stream",
     "text": [
      "A\n"
     ]
    },
    {
     "name": "stdin",
     "output_type": "stream",
     "text": [
      "Enter a grade:  80\n"
     ]
    },
    {
     "name": "stdout",
     "output_type": "stream",
     "text": [
      "B\n"
     ]
    },
    {
     "name": "stdin",
     "output_type": "stream",
     "text": [
      "Enter a grade:  100\n"
     ]
    },
    {
     "name": "stdout",
     "output_type": "stream",
     "text": [
      "A\n"
     ]
    }
   ],
   "source": [
    "#### Code for Problem 6\n",
    "ng= int(input(\"Enter the number of grades: \"))\n",
    "count=0\n",
    "while count<ng:\n",
    "    count=count+1\n",
    "    grade = int(input(\"Enter a grade: \"))\n",
    "    if grade >= 90:\n",
    "        print('A')\n",
    "    elif grade >= 80:\n",
    "        print('B')\n",
    "    elif grade >= 70:\n",
    "        print('C')\n",
    "    elif grade >= 60:\n",
    "        print('D')\n",
    "    else:\n",
    "        print('F')\n",
    "        \n",
    "## you should consider the situation when grade is larger than 100 or less than zero.\n",
    "## you should use sentinel-controlled Iteration to stop the process.\n",
    "## grade -5\n",
    "\n"
   ]
  },
  {
   "cell_type": "markdown",
   "id": "acc5c287-9de8-4963-92a2-e1ed9c7c4389",
   "metadata": {},
   "source": [
    "7. Modify the code in Problem 5 to use a loop that calculates and displays the amount of money you will have for each year in years 1 through 30.\n"
   ]
  },
  {
   "cell_type": "code",
   "execution_count": 44,
   "id": "d0c768b6-2f80-418f-951e-290a8f40a6fc",
   "metadata": {},
   "outputs": [
    {
     "name": "stdin",
     "output_type": "stream",
     "text": [
      "Enter the prinicple:  1000\n",
      "Enter the rate of return as a decimal:  .1\n"
     ]
    },
    {
     "name": "stdout",
     "output_type": "stream",
     "text": [
      "$ 1000.0 is the money you have after 0 years\n",
      "$ 1100.0 is the money you have after 1 years\n",
      "$ 1210.0 is the money you have after 2 years\n",
      "$ 1331.0 is the money you have after 3 years\n",
      "$ 1464.1 is the money you have after 4 years\n",
      "$ 1610.51 is the money you have after 5 years\n",
      "$ 1771.56 is the money you have after 6 years\n",
      "$ 1948.72 is the money you have after 7 years\n",
      "$ 2143.59 is the money you have after 8 years\n",
      "$ 2357.95 is the money you have after 9 years\n",
      "$ 2593.74 is the money you have after 10 years\n",
      "$ 2853.12 is the money you have after 11 years\n",
      "$ 3138.43 is the money you have after 12 years\n",
      "$ 3452.27 is the money you have after 13 years\n",
      "$ 3797.5 is the money you have after 14 years\n",
      "$ 4177.25 is the money you have after 15 years\n",
      "$ 4594.97 is the money you have after 16 years\n",
      "$ 5054.47 is the money you have after 17 years\n",
      "$ 5559.92 is the money you have after 18 years\n",
      "$ 6115.91 is the money you have after 19 years\n",
      "$ 6727.5 is the money you have after 20 years\n",
      "$ 7400.25 is the money you have after 21 years\n",
      "$ 8140.27 is the money you have after 22 years\n",
      "$ 8954.3 is the money you have after 23 years\n",
      "$ 9849.73 is the money you have after 24 years\n",
      "$ 10834.71 is the money you have after 25 years\n",
      "$ 11918.18 is the money you have after 26 years\n",
      "$ 13109.99 is the money you have after 27 years\n",
      "$ 14420.99 is the money you have after 28 years\n",
      "$ 15863.09 is the money you have after 29 years\n",
      "$ 17449.4 is the money you have after 30 years\n"
     ]
    }
   ],
   "source": [
    "# Code for Problem 7\n",
    "p = float(input(\"Enter the prinicple: \"))\n",
    "r = float(input(\"Enter the rate of return as a decimal: \"))\n",
    "\n",
    "for n in range(0,31):\n",
    "    a=p*(1+r)**n\n",
    "    a=round(a,2)\n",
    "    print(\"$\",a,\"is the money you have after\", n, \"years\")"
   ]
  },
  {
   "cell_type": "markdown",
   "id": "ef657d68-24f1-4aa9-96f0-c9faf592be16",
   "metadata": {},
   "source": [
    "8. Create the following list:\n",
    "> a = [1, 2, 3, 4, 55, 77, 4, 5, 6, 7, 77, 88, 100]\n",
    "\n",
    "Write a script with a loop which determines the largest two values in the list. \n"
   ]
  },
  {
   "cell_type": "code",
   "execution_count": 11,
   "id": "8c104e95-4923-4037-a945-242a7cd9f9d7",
   "metadata": {},
   "outputs": [
    {
     "name": "stdout",
     "output_type": "stream",
     "text": [
      "the biggest values are:\n",
      "100\n",
      "88\n"
     ]
    }
   ],
   "source": [
    "# Code for Problem 8\n",
    "a = [1, 2, 3, 4, 55, 77, 4, 5, 6, 7, 77, 88, 100]\n",
    "print(\"the biggest values are:\")\n",
    "for n in range(0,2):\n",
    "    highest=max(a)\n",
    "    print(highest)\n",
    "    del(a[-1])\n",
    "    \n",
    "   \n"
   ]
  },
  {
   "cell_type": "code",
   "execution_count": null,
   "id": "90fcb3fc-7a37-4866-bd19-1173f81ae746",
   "metadata": {},
   "outputs": [],
   "source": []
  },
  {
   "cell_type": "code",
   "execution_count": null,
   "id": "13c90eb0-b7ec-424d-b65c-a7967be16145",
   "metadata": {},
   "outputs": [],
   "source": []
  }
 ],
 "metadata": {
  "kernelspec": {
   "display_name": "Python 3 (ipykernel)",
   "language": "python",
   "name": "python3"
  },
  "language_info": {
   "codemirror_mode": {
    "name": "ipython",
    "version": 3
   },
   "file_extension": ".py",
   "mimetype": "text/x-python",
   "name": "python",
   "nbconvert_exporter": "python",
   "pygments_lexer": "ipython3",
   "version": "3.10.9"
  }
 },
 "nbformat": 4,
 "nbformat_minor": 5
}
