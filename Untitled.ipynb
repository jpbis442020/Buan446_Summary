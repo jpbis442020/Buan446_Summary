{
 "cells": [
  {
   "cell_type": "code",
   "execution_count": null,
   "id": "e13f251b-c0dd-4c1a-9af5-7fbaf6647a2b",
   "metadata": {},
   "outputs": [],
   "source": [
    "# Create the years and durations lists\n",
    "years = [2011,2012,2013,2014,2015,2016,2017,2018,2019,2020]\n",
    "durations = [103, 101, 99, 100, 100, 95, 95, 96, 93, 90,]\n",
    "\n",
    "# Create a dictionary with the two lists\n",
    "movie_dict ={'years':durations}\n",
    "movie_dict={\n",
    "    \"years\":years\n",
    "    \"durations\":durations}\n",
    "\n",
    "# Print the dictionary\n",
    "movie_dict"
   ]
  }
 ],
 "metadata": {
  "kernelspec": {
   "display_name": "Python 3 (ipykernel)",
   "language": "python",
   "name": "python3"
  },
  "language_info": {
   "codemirror_mode": {
    "name": "ipython",
    "version": 3
   },
   "file_extension": ".py",
   "mimetype": "text/x-python",
   "name": "python",
   "nbconvert_exporter": "python",
   "pygments_lexer": "ipython3",
   "version": "3.10.9"
  }
 },
 "nbformat": 4,
 "nbformat_minor": 5
}
