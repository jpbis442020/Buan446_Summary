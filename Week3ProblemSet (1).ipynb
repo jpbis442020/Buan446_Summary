{
 "cells": [
  {
   "cell_type": "markdown",
   "id": "a90e0d72-7e4b-48fb-8c62-825e4cd921bf",
   "metadata": {},
   "source": [
    "# Week 3 Problem Set"
   ]
  },
  {
   "cell_type": "markdown",
   "id": "b1dfd602-8c85-4e88-841b-351f487b7fe5",
   "metadata": {},
   "source": [
    "Each week you will have a problem set due on Sunday night before midnight.\n",
    "You will download a template Jupyter notebook file (like this one) and complete all of your work in the file then save it with your last name in the following format:\n",
    "lastname_week3.ipynb for example I would submit Zematis_week3.ipynb  "
   ]
  },
  {
   "cell_type": "markdown",
   "id": "c4f1f728-d90a-49d5-b7d8-edc10b4181a2",
   "metadata": {},
   "source": [
    "1. Create a string called shakespeare containing 'No legacy is so rich as honesty.' Perform the following slice operations.\n",
    "- Slice so only 'No legacy' is returned\n",
    "- Slice so only 'rich as honesty.' is returned\n",
    "- Slice so only 'rich' is returned\n",
    "- Display the entire string in reverse\n",
    "- Concatenate the string ' - William Shakespeare' after the quote. Save the new string in a new string called shakespeare_quote"
   ]
  },
  {
   "cell_type": "code",
   "execution_count": 1,
   "id": "9e7e055d-91f7-4742-a888-dbce4e0cea82",
   "metadata": {
    "tags": []
   },
   "outputs": [
    {
     "name": "stdout",
     "output_type": "stream",
     "text": [
      "No legacy \n",
      "rich as honesty.\n",
      "rich\n",
      ".ytsenoh sa hcir os si ycagel oN\n",
      "No legacy is so rich as honesty.-William Shakespeare\n"
     ]
    }
   ],
   "source": [
    "# Code for Problem 1\n",
    "shakespeare ='No legacy is so rich as honesty.'\n",
    "no_legacy = shakespeare[:10]\n",
    "rich_as_honesty= shakespeare[16:]\n",
    "rich = shakespeare[16:20]\n",
    "reverse = shakespeare[::-1]\n",
    "shakespeare_quote= shakespeare + '-William Shakespeare'\n",
    "\n",
    "print(no_legacy)\n",
    "print(rich_as_honesty)\n",
    "print(rich)\n",
    "print(reverse)\n",
    "print(shakespeare_quote)\n"
   ]
  },
  {
   "cell_type": "markdown",
   "id": "7d4ade26-f838-4d75-8ec4-93305fccc728",
   "metadata": {},
   "source": [
    "2. Unpacking a tuple\n",
    "- Create a tuple called my_info containing your first name, last name, and a list containing your 3 favorite foods (order the list most favorite to least favorite). \n",
    "- Print my_info. \n",
    "- Unpack the tuple into the variables first, last, favorite_foods. Print(first). \n",
    "- Unpack the list of favorite foods into the variables first_fav, second_fav, third_fav. \n",
    "- Create an f string to introduce your self by name and reveal your favorite foods. You must refer to the variables you have created. "
   ]
  },
  {
   "cell_type": "code",
   "execution_count": 2,
   "id": "dc3be189-1cbe-4cbf-868b-de6e52f48e61",
   "metadata": {},
   "outputs": [
    {
     "name": "stdout",
     "output_type": "stream",
     "text": [
      "('jac', 'pel', ['beer', 'ramen', 'chips'])\n",
      "jac\n",
      "My name is jac pel and my favorite foods are beer, ramen, and chips.\n"
     ]
    }
   ],
   "source": [
    "# Code for Problem 2\n",
    "my_info=('jac','pel',['beer','ramen','chips'])\n",
    "print(my_info)\n",
    "first, last, favorite_foods=my_info\n",
    "print(first)\n",
    "first_fav, second_fav, third_fav= favorite_foods\n",
    "print(f'My name is {first} {last} and my favorite foods are {first_fav}, {second_fav}, and {third_fav}.')"
   ]
  },
  {
   "cell_type": "markdown",
   "id": "a5f48192-5e61-42f3-a8e0-8da686e2b8ac",
   "metadata": {},
   "source": [
    "3. Create a dictionary with 10 key value pairs. Where the key is a string with a multiplication problem (example, 7 * 3) and the value is the answer in an integer format (example 7 * 3: 21). Use this dictionary to create a game where a student is randomly presented the key and needs to input the correct value. If the student gets it correct the games says, “Correct” if wrong the student is prompted to try again."
   ]
  },
  {
   "cell_type": "code",
   "execution_count": 3,
   "id": "dca17852-2146-49d0-a895-40c65d3de45f",
   "metadata": {},
   "outputs": [
    {
     "name": "stdout",
     "output_type": "stream",
     "text": [
      "10\n"
     ]
    },
    {
     "name": "stdin",
     "output_type": "stream",
     "text": [
      "Hey kiddo, count this 8*3. You have 3 seconds to enter: 24\n"
     ]
    },
    {
     "name": "stdout",
     "output_type": "stream",
     "text": [
      "thats right! you can do your donuts\n"
     ]
    }
   ],
   "source": [
    "import random\n",
    "toretable= {'7*3': 21, '8*3':24, '12*12': 144, '15*15':225,'99*99': 9801, '150*32':4800, '22*97':2134,'2*4':8,'14*14':196, '19735*98':1934030}\n",
    "print(len(toretable))\n",
    "\n",
    "\n",
    "\n",
    "def toretto_multiplication_game():\n",
    "    \"\"\"This game is toretto's favorite game to play with his kid who looks nothing like him nor Letty\"\"\"\n",
    "    position= random.randrange(0,len(toretable)+1)\n",
    "    while True:\n",
    "        answer= int(input(f\"Hey kiddo, count this {list(toretable.keys())[position]}. You have 3 seconds to enter:\"))\n",
    "        if answer==list(toretable.values())[position]: \n",
    "            print('thats right! you can do your donuts')\n",
    "            break\n",
    "        else:\n",
    "            print('No donuts for the day, try again')\n",
    "toretto_multiplication_game()\n",
    "\n",
    "\n"
   ]
  },
  {
   "cell_type": "markdown",
   "id": "ecaaea2b-0c64-46ce-8ba1-fb7e9ed4b0f5",
   "metadata": {},
   "source": [
    "4. Using list methods to do the following:\n",
    "- Create a list of the estimated daily temperatures called d_temp with the following values 85, 80, 90, 78, 83, 92\n",
    "- print d_temp\n",
    "- append the final weekly temp 91\n",
    "- print d_temp\n",
    "- We just got the next week's of temp readings [80, 81, 82, 83, 84, 85, 89] and this sequence to the end of our d_temp. Careful we don't want to add a list into our list but we want to add all the elements in our list.\n",
    "- Display the number of times the temperature was 80. Clue: The answer is 2\n",
    "- Interate/Loop through the items in the d_temp list and display the number of times a temperature reading displays for each reading. Ensure the list is in order from smallest to largest and each temperature only appears once."
   ]
  },
  {
   "cell_type": "code",
   "execution_count": 135,
   "id": "7c9afdbb-7562-4bc6-9f60-5db12ed8d94d",
   "metadata": {},
   "outputs": [
    {
     "name": "stdout",
     "output_type": "stream",
     "text": [
      "[85, 80, 90, 78, 83, 92]\n",
      "[85, 80, 90, 78, 83, 92, 91]\n",
      "[85, 80, 90, 78, 83, 92, 91, 80, 81, 82, 83, 84, 85, 89]\n",
      "[78, 80, 81, 82, 83, 84, 85, 89, 90, 91, 92]\n",
      "Temperature | Count\n",
      "    78      |   1  \n",
      "    80      |   2  \n",
      "    81      |   1  \n",
      "    82      |   1  \n",
      "    83      |   2  \n",
      "    84      |   1  \n",
      "    85      |   2  \n",
      "    89      |   1  \n",
      "    90      |   1  \n",
      "    91      |   1  \n",
      "    92      |   1  \n"
     ]
    }
   ],
   "source": [
    "# Code for Problem\n",
    "import pandas as pd\n",
    "import numpy as np \n",
    "d_temp=[85,80,90,78,83,92]\n",
    "print(d_temp)\n",
    "d_temp.append(91)\n",
    "print(d_temp)\n",
    "d_temp= d_temp+ [80,81,82,83,84,85,89]\n",
    "print(d_temp)\n",
    "d_temp.count(80)\n",
    "\n",
    "unique_temp = []\n",
    "for temp in d_temp:\n",
    "    if temp not in unique_temp:\n",
    "        unique_temp.append(temp)\n",
    "\n",
    "unique_temp.sort()\n",
    "print(unique_temp)\n",
    "\n",
    "count = 0\n",
    "print(f'{\"Temperature\":^10} | {\"Count\":^5}')\n",
    "\n",
    "for temp in unique_temp:\n",
    "    count = d_temp.count(temp)\n",
    "    print(f'{temp:^10}  |  {count:^4}')\n"
   ]
  },
  {
   "cell_type": "markdown",
   "id": "af890c13-41eb-4163-94cd-1cc064fffaae",
   "metadata": {},
   "source": [
    "5. Create a translation dictionary. Use Google Translate or your own personal knowledge to translate a minimum of 10 english words to another language. Create a dictionary called translations that maps the english words to their translations. Display the contents of translations in a two column table format."
   ]
  },
  {
   "cell_type": "code",
   "execution_count": 4,
   "id": "ad3ad668-024e-4841-aaa8-e500c5a9435e",
   "metadata": {},
   "outputs": [
    {
     "name": "stdout",
     "output_type": "stream",
     "text": [
      "{'You': 'tu', 'I': 'yo', 'Eat': 'comer', 'Drink': 'beber', 'pork': 'cerda', 'metal': 'metal', 'glasses': 'anteojos', 'bird': 'pajaro', 'please': 'por favor', 'thanks': 'gracias'}\n",
      " English   \t | \t  spanish  \n",
      "   You     \t | \t    tu    \n",
      "    I      \t | \t    yo    \n",
      "   Eat     \t | \t  comer   \n",
      "  Drink    \t | \t  beber   \n",
      "   pork    \t | \t  cerda   \n",
      "  metal    \t | \t  metal   \n",
      " glasses   \t | \t anteojos \n",
      "   bird    \t | \t  pajaro  \n",
      "  please   \t | \tpor favor \n",
      "  thanks   \t | \t gracias  \n"
     ]
    }
   ],
   "source": [
    "#Code for Problem 5\n",
    "\n",
    "translations={'You': 'tu','I':'yo','Eat':'comer','Drink':'beber', 'pork': 'cerda','metal': 'metal','glasses':'anteojos','bird':'pajaro','please':'por favor','thanks':'gracias'}\n",
    "print(translations)\n",
    "\n",
    "print(f'{\"English\":^10} \\t | \\t {\"spanish\":^10}')\n",
    "\n",
    "for keys, values in translations.items():\n",
    "    print(f'{keys:^10} \\t | \\t{values:^10}')"
   ]
  },
  {
   "cell_type": "code",
   "execution_count": null,
   "id": "01cebee5-4cfe-4b65-a1d0-2571a0925099",
   "metadata": {},
   "outputs": [],
   "source": []
  }
 ],
 "metadata": {
  "kernelspec": {
   "display_name": "Python 3 (ipykernel)",
   "language": "python",
   "name": "python3"
  },
  "language_info": {
   "codemirror_mode": {
    "name": "ipython",
    "version": 3
   },
   "file_extension": ".py",
   "mimetype": "text/x-python",
   "name": "python",
   "nbconvert_exporter": "python",
   "pygments_lexer": "ipython3",
   "version": "3.10.9"
  }
 },
 "nbformat": 4,
 "nbformat_minor": 5
}
