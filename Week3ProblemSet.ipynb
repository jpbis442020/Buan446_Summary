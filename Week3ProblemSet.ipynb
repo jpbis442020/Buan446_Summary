{
 "cells": [
  {
   "cell_type": "markdown",
   "id": "a90e0d72-7e4b-48fb-8c62-825e4cd921bf",
   "metadata": {},
   "source": [
    "# Week 3 Problem Set"
   ]
  },
  {
   "cell_type": "markdown",
   "id": "b1dfd602-8c85-4e88-841b-351f487b7fe5",
   "metadata": {},
   "source": [
    "Each week you will have a problem set due on Sunday night before midnight.\n",
    "You will download a template Jupyter notebook file (like this one) and complete all of your work in the file then save it with your last name in the following format:\n",
    "lastname_week3.ipynb for example I would submit Zematis_week3.ipynb  "
   ]
  },
  {
   "cell_type": "markdown",
   "id": "c4f1f728-d90a-49d5-b7d8-edc10b4181a2",
   "metadata": {},
   "source": [
    "1. Create a string called shakespeare containing 'No legacy is so rich as honesty.' Perform the following slice operations.\n",
    "- Slice so only 'No legacy' is returned\n",
    "- Slice so only 'rich as honesty.' is returned\n",
    "- Slice so only 'rich' is returned\n",
    "- Display the entire string in reverse\n",
    "- Concatenate the string ' - William Shakespeare' after the quote. Save the new string in a new string called shakespeare_quote"
   ]
  },
  {
   "cell_type": "code",
   "execution_count": null,
   "id": "9e7e055d-91f7-4742-a888-dbce4e0cea82",
   "metadata": {},
   "outputs": [],
   "source": [
    "# Code for Problem 1\n"
   ]
  },
  {
   "cell_type": "markdown",
   "id": "7d4ade26-f838-4d75-8ec4-93305fccc728",
   "metadata": {},
   "source": [
    "2. Unpacking a tuple\n",
    "- Create a tuple called my_info containing your first name, last name, and a list containing your 3 favorite foods (order the list most favorite to least favorite). \n",
    "- Print my_info. \n",
    "- Unpack the tuple into the variables first, last, favorite_foods. Print(first). \n",
    "- Unpack the list of favorite foods into the variables first_fav, second_fav, third_fav. \n",
    "- Create an f string to introduce your self by name and reveal your favorite foods. You must refer to the variables you have created. "
   ]
  },
  {
   "cell_type": "code",
   "execution_count": null,
   "id": "dc3be189-1cbe-4cbf-868b-de6e52f48e61",
   "metadata": {},
   "outputs": [],
   "source": [
    "# Code for Problem 2"
   ]
  },
  {
   "cell_type": "markdown",
   "id": "a5f48192-5e61-42f3-a8e0-8da686e2b8ac",
   "metadata": {},
   "source": [
    "3. Create a dictionary with 10 key value pairs. Where the key is a string with a multiplication problem (example, 7 * 3) and the value is the answer in an integer format (example 7 * 3: 21). Use this dictionary to create a game where a student is randomly presented the key and needs to input the correct value. If the student gets it correct the games says, “Correct” if wrong the student is prompted to try again."
   ]
  },
  {
   "cell_type": "code",
   "execution_count": null,
   "id": "dca17852-2146-49d0-a895-40c65d3de45f",
   "metadata": {},
   "outputs": [],
   "source": [
    "# Code for Problem 3"
   ]
  },
  {
   "cell_type": "markdown",
   "id": "ecaaea2b-0c64-46ce-8ba1-fb7e9ed4b0f5",
   "metadata": {},
   "source": [
    "4. Using list methods to do the following:\n",
    "- Create a list of the estimated daily temperatures called d_temp with the following values 85, 80, 90, 78, 83, 92\n",
    "- print d_temp\n",
    "- append the final weekly temp 91\n",
    "- print d_temp\n",
    "- We just got the next week's of temp readings [80, 81, 82, 83, 84, 85, 89] and this sequence to the end of our d_temp. Careful we don't want to add a list into our list but we want to add all the elements in our list.\n",
    "- Display the number of times the temperature was 80. Clue: The answer is 2\n",
    "- Interate/Loop through the items in the d_temp list and display the number of times a temperature reading displays for each reading. Ensure the list is in order from smallest to largest and each temperature only appears once."
   ]
  },
  {
   "cell_type": "code",
   "execution_count": null,
   "id": "7c9afdbb-7562-4bc6-9f60-5db12ed8d94d",
   "metadata": {},
   "outputs": [],
   "source": [
    "# Code for Problem 4"
   ]
  },
  {
   "cell_type": "markdown",
   "id": "af890c13-41eb-4163-94cd-1cc064fffaae",
   "metadata": {},
   "source": [
    "5. Create a translation dictionary. Use Google Translate or your own personal knowledge to translate a minimum of 10 english words to another language. Create a dictionary called translations that maps the english words to their translations. Display the contents of translations in a two column table format."
   ]
  },
  {
   "cell_type": "code",
   "execution_count": null,
   "id": "ad3ad668-024e-4841-aaa8-e500c5a9435e",
   "metadata": {},
   "outputs": [],
   "source": [
    "# Code for Problem 5"
   ]
  }
 ],
 "metadata": {
  "kernelspec": {
   "display_name": "Python 3 (ipykernel)",
   "language": "python",
   "name": "python3"
  },
  "language_info": {
   "codemirror_mode": {
    "name": "ipython",
    "version": 3
   },
   "file_extension": ".py",
   "mimetype": "text/x-python",
   "name": "python",
   "nbconvert_exporter": "python",
   "pygments_lexer": "ipython3",
   "version": "3.10.9"
  }
 },
 "nbformat": 4,
 "nbformat_minor": 5
}
