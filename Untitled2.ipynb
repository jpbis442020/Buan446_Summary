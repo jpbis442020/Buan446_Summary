{
 "cells": [
  {
   "cell_type": "code",
   "execution_count": null,
   "id": "56c7187e-3f10-4d41-9510-9b0227451fdb",
   "metadata": {},
   "outputs": [],
   "source": [
    "multiple choice problems"
   ]
  },
  {
   "cell_type": "code",
   "execution_count": null,
   "id": "9ef5e287-f0fa-4e66-8785-4869d296ec2f",
   "metadata": {},
   "outputs": [],
   "source": []
  }
 ],
 "metadata": {
  "kernelspec": {
   "display_name": "Python 3 (ipykernel)",
   "language": "python",
   "name": "python3"
  },
  "language_info": {
   "codemirror_mode": {
    "name": "ipython",
    "version": 3
   },
   "file_extension": ".py",
   "mimetype": "text/x-python",
   "name": "python",
   "nbconvert_exporter": "python",
   "pygments_lexer": "ipython3",
   "version": "3.10.9"
  }
 },
 "nbformat": 4,
 "nbformat_minor": 5
}
