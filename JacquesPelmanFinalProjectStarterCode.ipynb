{
 "cells": [
  {
   "cell_type": "markdown",
   "id": "fc5a7e95-2f05-44be-bc20-4ecaed3be5b8",
   "metadata": {},
   "source": [
    "# Final Exam Project\n"
   ]
  },
  {
   "cell_type": "markdown",
   "id": "03cf60d4-1236-4e41-9df1-48732c20dfe1",
   "metadata": {},
   "source": [
    "You are interviewing for your first Data Analyst job at MegaCORP. They want to test your basic skills with python before the give you the offer.\n",
    "The first step is to run the code below to generate a data set for analysis but before you do that they want you to change some of the code to accomplish the following:\n",
    "- The data set should include 7500 values\n",
    "- Add yourself (your first name) as a salesperson in the North region\n",
    "- Change Smartphone to Apple Iphone with possible prices between 400 and 1400\n",
    "- Add a new product: Android Smartphone with possible prices between 200 and 1200\n",
    "- Output a CSV file named MegaCORP_2022_sales_data.csv\n"
   ]
  },
  {
   "cell_type": "code",
   "execution_count": 17,
   "id": "a3d3bed8-6e7e-4a05-ab7e-a3f7dff872a2",
   "metadata": {
    "tags": []
   },
   "outputs": [],
   "source": [
    "# Modify and run this code to create df dataframe\n",
    "import pandas as pd\n",
    "import numpy as np\n",
    "import random\n",
    "from random import randint\n",
    "from datetime import datetime, timedelta\n",
    "\n",
    "# Set constants\n",
    "N = 7500\n",
    "product_price_map = {'Laptop': (500.00, 1500.00), 'Appleiphone': (400.00, 1400.00), 'Television': (200.00, 2000.00), 'AndroidSmartphone': (200.00, 1200.00)}\n",
    "region_salesperson_map = {\n",
    "    'North': ['Hamlet', 'Ophelia','Jacques'],\n",
    "    'South': ['Polonius', 'Horatio'],\n",
    "    'East': ['Gertrude', 'Jerry'],\n",
    "    'West': ['George', 'Elaine']\n",
    "}\n",
    "\n",
    "# Function to generate random dates\n",
    "def random_dates(start, end, n=10):\n",
    "    start_u = start.value//10**9\n",
    "    end_u = end.value//10**9\n",
    "    return pd.to_datetime(np.random.randint(start_u, end_u, n), unit='s')\n",
    "\n",
    "start = pd.to_datetime('2022-01-01')\n",
    "end = pd.to_datetime('2022-12-31')\n",
    "\n",
    "# Generate random data\n",
    "regions = list(region_salesperson_map.keys())\n",
    "products = list(product_price_map.keys())\n",
    "data = {\n",
    "    'Date': random_dates(start, end, N),\n",
    "    'Region': [random.choice(regions) for _ in range(N)],\n",
    "    'SalesPerson': [],\n",
    "    'Product': [random.choice(products) for _ in range(N)],\n",
    "    'UnitsSold': [randint(1, 20) for _ in range(N)],  # random number between 1 and 20\n",
    "    'UnitPrice': []\n",
    "}\n",
    "\n",
    "# Assign salespeople based on region\n",
    "for region in data['Region']:\n",
    "    data['SalesPerson'].append(random.choice(region_salesperson_map[region]))\n",
    "\n",
    "# Assign unit price based on product\n",
    "for product in data['Product']:\n",
    "    min_price, max_price = product_price_map[product]\n",
    "    data['UnitPrice'].append(round(random.uniform(min_price, max_price), 2))\n",
    "\n",
    "# Create DataFrame\n",
    "df = pd.DataFrame(data)\n",
    "\n",
    "# Save to CSV\n",
    "df.to_csv('MegaCORP_2022_sales_data.csv', index=False)\n"
   ]
  },
  {
   "cell_type": "markdown",
   "id": "7e870fbb-6196-4042-9be8-aaac9703411c",
   "metadata": {},
   "source": [
    "Add two columns to our dataframe df\n",
    "- Sales which is the UnitsSold * UnitPrice\n",
    "- Sales_Commission which is 1.5% of Sales upto 10000 and 2.25 on any amount over 10000\n",
    "For example, if Hamlet had a sale of 20 units at a price of 1100 his Sales would be 22000 and his commission would be calculated 1.5% * 10000 + 2.25% * (22000-10000) for a total of $420\n",
    "- Use round() to make sure the commission has only 2 digit precision (ie, 34.55 not 34.559340)"
   ]
  },
  {
   "cell_type": "code",
   "execution_count": 23,
   "id": "987e2cae-506c-4213-b570-0b5aebe363b4",
   "metadata": {
    "tags": []
   },
   "outputs": [],
   "source": [
    "# Create 'Sales' column which is UnitsSold * UnitPrice\n",
    "\n",
    "df['Sales'] = df['UnitsSold'] * df['UnitPrice']"
   ]
  },
  {
   "cell_type": "code",
   "execution_count": 24,
   "id": "6693f59a-7252-41d5-b3e8-11abf3b4f8ca",
   "metadata": {
    "tags": []
   },
   "outputs": [],
   "source": [
    "# Create 'Sales_Commission' column with 2 digits of precision\n",
    "# Calculate Sales_Commission\n",
    "def calculate_commission(row):\n",
    "    if row['Sales'] <= 10000:\n",
    "        return 0.015 * row['Sales']\n",
    "    else:\n",
    "        return 0.015 * 10000 + 0.0225 * (row['Sales'] - 10000)\n",
    "\n",
    "df['Sales_Commission'] = df.apply(calculate_commission, axis=1)\n",
    "\n",
    "df['Sales_Commission'] = df['Sales_Commission'].apply(lambda x: round(x, 2))\n",
    "\n"
   ]
  },
  {
   "cell_type": "code",
   "execution_count": 25,
   "id": "ca1dfd67-aca0-4fd2-abad-c8e92a7b724c",
   "metadata": {
    "tags": []
   },
   "outputs": [
    {
     "data": {
      "text/html": [
       "<div>\n",
       "<style scoped>\n",
       "    .dataframe tbody tr th:only-of-type {\n",
       "        vertical-align: middle;\n",
       "    }\n",
       "\n",
       "    .dataframe tbody tr th {\n",
       "        vertical-align: top;\n",
       "    }\n",
       "\n",
       "    .dataframe thead th {\n",
       "        text-align: right;\n",
       "    }\n",
       "</style>\n",
       "<table border=\"1\" class=\"dataframe\">\n",
       "  <thead>\n",
       "    <tr style=\"text-align: right;\">\n",
       "      <th></th>\n",
       "      <th>Date</th>\n",
       "      <th>Region</th>\n",
       "      <th>SalesPerson</th>\n",
       "      <th>Product</th>\n",
       "      <th>UnitsSold</th>\n",
       "      <th>UnitPrice</th>\n",
       "      <th>Sales</th>\n",
       "      <th>Sales_Commission</th>\n",
       "    </tr>\n",
       "  </thead>\n",
       "  <tbody>\n",
       "    <tr>\n",
       "      <th>0</th>\n",
       "      <td>2022-06-24 11:51:52</td>\n",
       "      <td>North</td>\n",
       "      <td>Jacques</td>\n",
       "      <td>AndroidSmartphone</td>\n",
       "      <td>20</td>\n",
       "      <td>332.56</td>\n",
       "      <td>6651.20</td>\n",
       "      <td>99.77</td>\n",
       "    </tr>\n",
       "    <tr>\n",
       "      <th>1</th>\n",
       "      <td>2022-12-01 19:49:45</td>\n",
       "      <td>South</td>\n",
       "      <td>Horatio</td>\n",
       "      <td>AndroidSmartphone</td>\n",
       "      <td>7</td>\n",
       "      <td>810.02</td>\n",
       "      <td>5670.14</td>\n",
       "      <td>85.05</td>\n",
       "    </tr>\n",
       "    <tr>\n",
       "      <th>2</th>\n",
       "      <td>2022-05-03 13:58:20</td>\n",
       "      <td>West</td>\n",
       "      <td>George</td>\n",
       "      <td>Appleiphone</td>\n",
       "      <td>16</td>\n",
       "      <td>852.35</td>\n",
       "      <td>13637.60</td>\n",
       "      <td>231.85</td>\n",
       "    </tr>\n",
       "    <tr>\n",
       "      <th>3</th>\n",
       "      <td>2022-03-12 07:17:36</td>\n",
       "      <td>West</td>\n",
       "      <td>George</td>\n",
       "      <td>Laptop</td>\n",
       "      <td>9</td>\n",
       "      <td>1488.37</td>\n",
       "      <td>13395.33</td>\n",
       "      <td>226.39</td>\n",
       "    </tr>\n",
       "    <tr>\n",
       "      <th>4</th>\n",
       "      <td>2022-09-18 16:13:43</td>\n",
       "      <td>East</td>\n",
       "      <td>Jerry</td>\n",
       "      <td>Television</td>\n",
       "      <td>11</td>\n",
       "      <td>1191.18</td>\n",
       "      <td>13102.98</td>\n",
       "      <td>219.82</td>\n",
       "    </tr>\n",
       "    <tr>\n",
       "      <th>...</th>\n",
       "      <td>...</td>\n",
       "      <td>...</td>\n",
       "      <td>...</td>\n",
       "      <td>...</td>\n",
       "      <td>...</td>\n",
       "      <td>...</td>\n",
       "      <td>...</td>\n",
       "      <td>...</td>\n",
       "    </tr>\n",
       "    <tr>\n",
       "      <th>7495</th>\n",
       "      <td>2022-02-26 20:11:17</td>\n",
       "      <td>West</td>\n",
       "      <td>Elaine</td>\n",
       "      <td>Appleiphone</td>\n",
       "      <td>11</td>\n",
       "      <td>890.98</td>\n",
       "      <td>9800.78</td>\n",
       "      <td>147.01</td>\n",
       "    </tr>\n",
       "    <tr>\n",
       "      <th>7496</th>\n",
       "      <td>2022-08-31 16:53:44</td>\n",
       "      <td>South</td>\n",
       "      <td>Horatio</td>\n",
       "      <td>AndroidSmartphone</td>\n",
       "      <td>6</td>\n",
       "      <td>473.68</td>\n",
       "      <td>2842.08</td>\n",
       "      <td>42.63</td>\n",
       "    </tr>\n",
       "    <tr>\n",
       "      <th>7497</th>\n",
       "      <td>2022-04-25 17:43:36</td>\n",
       "      <td>East</td>\n",
       "      <td>Gertrude</td>\n",
       "      <td>Laptop</td>\n",
       "      <td>14</td>\n",
       "      <td>704.50</td>\n",
       "      <td>9863.00</td>\n",
       "      <td>147.94</td>\n",
       "    </tr>\n",
       "    <tr>\n",
       "      <th>7498</th>\n",
       "      <td>2022-01-03 17:27:13</td>\n",
       "      <td>South</td>\n",
       "      <td>Polonius</td>\n",
       "      <td>Appleiphone</td>\n",
       "      <td>2</td>\n",
       "      <td>466.29</td>\n",
       "      <td>932.58</td>\n",
       "      <td>13.99</td>\n",
       "    </tr>\n",
       "    <tr>\n",
       "      <th>7499</th>\n",
       "      <td>2022-12-07 15:57:25</td>\n",
       "      <td>East</td>\n",
       "      <td>Jerry</td>\n",
       "      <td>Laptop</td>\n",
       "      <td>10</td>\n",
       "      <td>559.79</td>\n",
       "      <td>5597.90</td>\n",
       "      <td>83.97</td>\n",
       "    </tr>\n",
       "  </tbody>\n",
       "</table>\n",
       "<p>7500 rows × 8 columns</p>\n",
       "</div>"
      ],
      "text/plain": [
       "                    Date Region SalesPerson            Product  UnitsSold  \\\n",
       "0    2022-06-24 11:51:52  North     Jacques  AndroidSmartphone         20   \n",
       "1    2022-12-01 19:49:45  South     Horatio  AndroidSmartphone          7   \n",
       "2    2022-05-03 13:58:20   West      George        Appleiphone         16   \n",
       "3    2022-03-12 07:17:36   West      George             Laptop          9   \n",
       "4    2022-09-18 16:13:43   East       Jerry         Television         11   \n",
       "...                  ...    ...         ...                ...        ...   \n",
       "7495 2022-02-26 20:11:17   West      Elaine        Appleiphone         11   \n",
       "7496 2022-08-31 16:53:44  South     Horatio  AndroidSmartphone          6   \n",
       "7497 2022-04-25 17:43:36   East    Gertrude             Laptop         14   \n",
       "7498 2022-01-03 17:27:13  South    Polonius        Appleiphone          2   \n",
       "7499 2022-12-07 15:57:25   East       Jerry             Laptop         10   \n",
       "\n",
       "      UnitPrice     Sales  Sales_Commission  \n",
       "0        332.56   6651.20             99.77  \n",
       "1        810.02   5670.14             85.05  \n",
       "2        852.35  13637.60            231.85  \n",
       "3       1488.37  13395.33            226.39  \n",
       "4       1191.18  13102.98            219.82  \n",
       "...         ...       ...               ...  \n",
       "7495     890.98   9800.78            147.01  \n",
       "7496     473.68   2842.08             42.63  \n",
       "7497     704.50   9863.00            147.94  \n",
       "7498     466.29    932.58             13.99  \n",
       "7499     559.79   5597.90             83.97  \n",
       "\n",
       "[7500 rows x 8 columns]"
      ]
     },
     "execution_count": 25,
     "metadata": {},
     "output_type": "execute_result"
    }
   ],
   "source": [
    "# Display dataframe df\n",
    "df"
   ]
  },
  {
   "cell_type": "markdown",
   "id": "53cc48af-d08a-4d6b-b90d-d26c5281e302",
   "metadata": {
    "tags": []
   },
   "source": [
    "Display the sales per person for the year in descending order (largest to smallest)."
   ]
  },
  {
   "cell_type": "code",
   "execution_count": 28,
   "id": "6747ca68-4750-4b35-ae88-c91570623b18",
   "metadata": {
    "tags": []
   },
   "outputs": [
    {
     "name": "stdout",
     "output_type": "stream",
     "text": [
      "SalesPerson\n",
      "George      9527556.80\n",
      "Elaine      9475312.41\n",
      "Gertrude    9452884.01\n",
      "Jerry       9299651.01\n",
      "Polonius    9013363.26\n",
      "Horatio     9004166.55\n",
      "Hamlet      6240707.08\n",
      "Jacques     6107348.65\n",
      "Ophelia     5868561.68\n",
      "Name: Sales, dtype: float64\n"
     ]
    }
   ],
   "source": [
    "# Display the sales per person for the year\n",
    "sales_per_person = df.groupby('SalesPerson')['Sales'].sum().sort_values(ascending=False)\n",
    "print(sales_per_person)"
   ]
  },
  {
   "cell_type": "markdown",
   "id": "9574d84c-a721-48ca-9926-511c395f23cd",
   "metadata": {},
   "source": [
    "Display the commissions per person for the year in descending order."
   ]
  },
  {
   "cell_type": "code",
   "execution_count": 30,
   "id": "96765db6-9443-4b0a-ace4-b2a0a2d5827f",
   "metadata": {
    "tags": []
   },
   "outputs": [
    {
     "name": "stdout",
     "output_type": "stream",
     "text": [
      "SalesPerson\n",
      "George      164831.44\n",
      "Elaine      161644.74\n",
      "Gertrude    161486.69\n",
      "Jerry       159296.63\n",
      "Polonius    155125.76\n",
      "Horatio     154715.91\n",
      "Hamlet      107694.92\n",
      "Jacques     104873.61\n",
      "Ophelia     100048.55\n",
      "Name: Sales_Commission, dtype: float64\n"
     ]
    }
   ],
   "source": [
    "# Code \n",
    "comm_per_person = df.groupby('SalesPerson')['Sales_Commission'].sum().sort_values(ascending=False)\n",
    "print(comm_per_person)"
   ]
  },
  {
   "cell_type": "markdown",
   "id": "f852ac41-bd98-41a4-84d0-968f2e0ea9b2",
   "metadata": {},
   "source": [
    "What is the sum of all the sales in the North Region?"
   ]
  },
  {
   "cell_type": "code",
   "execution_count": 38,
   "id": "653e7fe2-1d0a-40d7-970d-60ed0f2eaf0a",
   "metadata": {
    "tags": []
   },
   "outputs": [
    {
     "name": "stdout",
     "output_type": "stream",
     "text": [
      "18216617.41\n"
     ]
    }
   ],
   "source": [
    "# Code\n",
    "north_sales_sum = df[df['Region'] == 'North']['Sales'].sum().round(2)\n",
    "print(north_sales_sum)"
   ]
  },
  {
   "cell_type": "markdown",
   "id": "21a12268-c8e5-4de3-aa5f-4e01fd10cb9a",
   "metadata": {},
   "source": [
    "Create a bar chart showing sales for each product."
   ]
  },
  {
   "cell_type": "code",
   "execution_count": 37,
   "id": "e0df0337-4980-4937-979f-971b6cd51171",
   "metadata": {
    "tags": []
   },
   "outputs": [
    {
     "data": {
      "image/png": "[encoded data removed]",
      "text/plain": [
       "<Figure size 640x480 with 1 Axes>"
      ]
     },
     "metadata": {},
     "output_type": "display_data"
    }
   ],
   "source": [
    "# Import pandas and matplotlib.pyplot\n",
    "import pandas as pd\n",
    "import matplotlib.pyplot as plt\n",
    "\n",
    "\n",
    "# Group by 'Product' and sum the 'Sales' column\n",
    "product_sales = df.groupby('Product')['Sales'].sum()\n",
    "\n",
    "\n",
    "# Plot the sales data for each product\n",
    "\n",
    "product_sales.plot(kind='bar')\n",
    "plt.xlabel('Product')\n",
    "plt.ylabel('Total Sales ($)')\n",
    "plt.title('Sales by Product')\n",
    "plt.show()"
   ]
  },
  {
   "cell_type": "markdown",
   "id": "b7b1444c-dda4-4091-806d-240df661b1bd",
   "metadata": {},
   "source": [
    "Create a histogram showing the distribution of sales by unit price"
   ]
  },
  {
   "cell_type": "code",
   "execution_count": 40,
   "id": "44a5380b-a175-4146-bdef-0022ccffb1d2",
   "metadata": {
    "tags": []
   },
   "outputs": [
    {
     "data": {
      "image/png": "[encoded data removed]",
      "text/plain": [
       "<Figure size 640x480 with 1 Axes>"
      ]
     },
     "metadata": {},
     "output_type": "display_data"
    }
   ],
   "source": [
    "# Import required libraries\n",
    "import pandas as pd\n",
    "import matplotlib.pyplot as plt\n",
    "\n",
    "# Plot a histogram for the 'UnitPrice' column\n",
    "plt.hist(df['UnitPrice'])\n",
    "plt.xlabel('Unit Price')\n",
    "plt.ylabel('Number of Sales')\n",
    "plt.title('Distribution of sales by Unit Price')\n",
    "plt.grid(axis='y')\n",
    "plt.show()"
   ]
  },
  {
   "cell_type": "code",
   "execution_count": null,
   "id": "2d49c99b-b518-4cc5-9465-f44fb37d5b31",
   "metadata": {},
   "outputs": [],
   "source": []
  }
 ],
 "metadata": {
  "kernelspec": {
   "display_name": "Python 3 (ipykernel)",
   "language": "python",
   "name": "python3"
  },
  "language_info": {
   "codemirror_mode": {
    "name": "ipython",
    "version": 3
   },
   "file_extension": ".py",
   "mimetype": "text/x-python",
   "name": "python",
   "nbconvert_exporter": "python",
   "pygments_lexer": "ipython3",
   "version": "3.10.9"
  }
 },
 "nbformat": 4,
 "nbformat_minor": 5
}
