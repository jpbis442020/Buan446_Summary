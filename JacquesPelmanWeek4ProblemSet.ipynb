{
 "cells": [
  {
   "cell_type": "markdown",
   "id": "a90e0d72-7e4b-48fb-8c62-825e4cd921bf",
   "metadata": {},
   "source": [
    "# Week 4 Problem Set"
   ]
  },
  {
   "cell_type": "markdown",
   "id": "b1dfd602-8c85-4e88-841b-351f487b7fe5",
   "metadata": {},
   "source": [
    "Each week you will have a problem set due on Sunday night before midnight.\n",
    "You will download a template Jupyter notebook file (like this one) and complete all of your work in the file then save it with your last name in the following format:\n",
    "lastname_week4ProblemSet.ipynb for example I would submit Zematis_week3ProblemSet.ipynb  "
   ]
  },
  {
   "cell_type": "markdown",
   "id": "c4f1f728-d90a-49d5-b7d8-edc10b4181a2",
   "metadata": {},
   "source": [
    "1. Create a 4 by 4 array containing the even integers from 2 thru 32. Create a second 4 by 4 array containing the integers 16 down to 1. Print both arrays you created and the print the output after multiplying both arrays"
   ]
  },
  {
   "cell_type": "code",
   "execution_count": 10,
   "id": "4d0052a0-fe80-454e-a40e-2ad215196d6d",
   "metadata": {
    "collapsed": false,
    "executionCancelledAt": null,
    "executionTime": null,
    "jupyter": {
     "outputs_hidden": false,
     "source_hidden": false
    },
    "lastExecutedAt": null,
    "lastScheduledRunId": null,
    "lastSuccessfullyExecutedCode": null,
    "outputsMetadata": {
     "0": {
      "height": 256,
      "type": "stream"
     }
    },
    "tags": []
   },
   "outputs": [
    {
     "name": "stdout",
     "output_type": "stream",
     "text": [
      "\n",
      "first array containing even integers from 2 to 32\n",
      "[[ 2  4  6  8]\n",
      " [10 12 14 16]\n",
      " [18 20 22 24]\n",
      " [26 28 30 32]]\n",
      "\n",
      "the second array containing integers from 16 to 1\n",
      "[[16 15 14 13]\n",
      " [12 11 10  9]\n",
      " [ 8  7  6  5]\n",
      " [ 4  3  2  1]]\n",
      "\n",
      "Multiply both arrays\n",
      "[[ 32  60  84 104]\n",
      " [120 132 140 144]\n",
      " [144 140 132 120]\n",
      " [104  84  60  32]]\n"
     ]
    }
   ],
   "source": [
    "# Code for Problem 1\n",
    "import numpy as np\n",
    "# Create the first array containing even integers from 2 to 32\n",
    "\n",
    "a=[2, 4, 6, 8, 10, 12, 14, 16, 18, 20, 22, 24, 26, 28, 30, 32]\n",
    "a = np.array(a).reshape(4, 4)\n",
    "# Create the second array containing integers from 16 to 1\n",
    "\n",
    "b=[16, 15, 14, 13, 12, 11, 10, 9, 8, 7, 6, 5, 4, 3, 2, 1]\n",
    "b = np.array(b).reshape(4, 4)\n",
    "# Display the first array\n",
    "print('\\nfirst array containing even integers from 2 to 32')\n",
    "\n",
    "print(a)\n",
    "\n",
    "\n",
    "# Display the second array\n",
    "print('\\nthe second array containing integers from 16 to 1')\n",
    "\n",
    "print(b)\n",
    "\n",
    "# Multiply both arrays\n",
    "print('\\nMultiply both arrays')\n",
    "\n",
    "print(a*b)"
   ]
  },
  {
   "cell_type": "markdown",
   "id": "7d4ade26-f838-4d75-8ec4-93305fccc728",
   "metadata": {},
   "source": [
    "2. Create a 2 by 3 array containing the first 6 powers of 2 beginning with 2 to the 0 power. Flatten the array first with method flatten, then with ravel. In each case, display the result then display the original array to show that it was unmodified."
   ]
  },
  {
   "cell_type": "code",
   "execution_count": 11,
   "id": "6194dfae-f99c-4d82-a20b-30b8c0b2657f",
   "metadata": {
    "executionCancelledAt": null,
    "executionTime": 10,
    "lastExecutedAt": 1690140090723,
    "lastScheduledRunId": null,
    "lastSuccessfullyExecutedCode": "# Code for Problem 2\n\n# Create the array containing the first 6 powers of 2\n\n\n# Flatten the array using the flatten method\n# Flatten creates a copy of the array\n\n\n# Display the flattened array\n\n\n# Display the original array to show that it was unmodified\n\n\n# Ravel the array\n# Ravel creates a one dimensional view of the array\n\n\n# Display the raveled array\n\n\n# Display the original array to show that it was unmodified\n",
    "outputsMetadata": {
     "0": {
      "height": 216,
      "type": "stream"
     }
    },
    "tags": []
   },
   "outputs": [
    {
     "name": "stdout",
     "output_type": "stream",
     "text": [
      "\n",
      "Display the flattened array\n",
      "[ 1  2  4  8 16 32]\n",
      "\n",
      "Display the original array to show that it was unmodified\n",
      "[[ 1  2  4]\n",
      " [ 8 16 32]]\n",
      "\n",
      "Display the raveled array\n",
      "[ 1  2  4  8 16 32]\n",
      "\n",
      "Display the original array to show that it was unmodified\n",
      "[[ 1  2  4]\n",
      " [ 8 16 32]]\n"
     ]
    }
   ],
   "source": [
    "# Code for Problem 2\n",
    "\n",
    "# Create the array containing the first 6 powers of 2\n",
    "a=[1, 2, 4, 8, 16, 32]\n",
    "a = np.array(a).reshape(2, 3)\n",
    "#print(a)\n",
    "# Flatten the array using the flatten method\n",
    "flattened_a = a.flatten()\n",
    "\n",
    "# Flatten creates a copy of the array\n",
    "\n",
    "\n",
    "# Display the flattened array\n",
    "print('\\nDisplay the flattened array')\n",
    "\n",
    "print(flattened_a)\n",
    "\n",
    "# Display the original array to show that it was unmodified\n",
    "print('\\nDisplay the original array to show that it was unmodified')\n",
    "\n",
    "print(a)\n",
    "\n",
    "# Ravel the array\n",
    "raveled_a = a.ravel()\n",
    "\n",
    "# Ravel creates a one dimensional view of the array\n",
    "\n",
    "\n",
    "# Display the raveled array\n",
    "print('\\nDisplay the raveled array')\n",
    "\n",
    "print(raveled_a)\n",
    "\n",
    "# Display the original array to show that it was unmodified\n",
    "print('\\nDisplay the original array to show that it was unmodified')\n",
    "\n",
    "print(a)"
   ]
  },
  {
   "cell_type": "markdown",
   "id": "a5f48192-5e61-42f3-a8e0-8da686e2b8ac",
   "metadata": {},
   "source": [
    "3. Create an array containing the values 1-15, reshape it into a 3 by 5 array, then use indexing and slicing techniques to perform each of the following operations (label and comment on each operation):\n",
    "- Select row 2\n",
    "- Select column 5\n",
    "- Select rows 0 and 1\n",
    "- Select the elements that is in row 1 column 4\n",
    "- Select all elements from rows 1 and 2 that are in columns 0, 2 and 4"
   ]
  },
  {
   "cell_type": "code",
   "execution_count": 9,
   "id": "60c5fe03-509d-4661-8444-ff0b593ed895",
   "metadata": {
    "executionCancelledAt": null,
    "executionTime": null,
    "lastExecutedAt": null,
    "lastScheduledRunId": null,
    "lastSuccessfullyExecutedCode": null,
    "outputsMetadata": {
     "0": {
      "height": 156,
      "type": "stream"
     }
    },
    "tags": []
   },
   "outputs": [
    {
     "name": "stdout",
     "output_type": "stream",
     "text": [
      "\n",
      "Create an array containing the values 1-15\n",
      "[ 1  2  3  4  5  6  7  8  9 10 11 12 13 14 15]\n",
      "\n",
      "Reshape the array into a 3 by 5 array\n",
      "[[ 1  2  3  4  5]\n",
      " [ 6  7  8  9 10]\n",
      " [11 12 13 14 15]]\n",
      "\n",
      "Select row 2\n",
      "[ 6  7  8  9 10]\n",
      "\n",
      "Select column 5\n",
      "[ 5 10 15]\n",
      "\n",
      "Select rows 0 and 1\n",
      "[[ 1  2  3  4  5]\n",
      " [ 6  7  8  9 10]]\n",
      "\n",
      "Select the element in row 1, column 4\n",
      "4\n",
      "\n",
      "Select all elements from rows 1 and 2 that are in columns 0, 2, and 4\n",
      "[[ 1  3  5]\n",
      " [ 6  8 10]]\n"
     ]
    }
   ],
   "source": [
    "# Code for Problem 3\n",
    "import numpy as np\n",
    "\n",
    "# Create an array containing the values 1-15\n",
    "arr = np.arange(1, 16)\n",
    "print('\\nCreate an array containing the values 1-15')\n",
    "\n",
    "print(arr)\n",
    "\n",
    "\n",
    "# Reshape the array into a 3 by 5 array\n",
    "reshaped_arr = arr.reshape(3, 5)\n",
    "print('\\nReshape the array into a 3 by 5 array')\n",
    "\n",
    "print(reshaped_arr)\n",
    "\n",
    "# Select row 2\n",
    "r2=reshaped_arr[1]\n",
    "print('\\nSelect row 2')\n",
    "\n",
    "print(r2)\n",
    "\n",
    "# Select column 5\n",
    "print('\\nSelect column 5')\n",
    "\n",
    "c5=reshaped_arr[:,4]\n",
    "print(c5)\n",
    "\n",
    "# Select rows 0 and 1\n",
    "r=reshaped_arr[0:2] \n",
    "print('\\nSelect rows 0 and 1')\n",
    "\n",
    "print(r)\n",
    "\n",
    "# Select the element in row 1, column 4\n",
    "e=reshaped_arr[0,3]\n",
    "print('\\nSelect the element in row 1, column 4')\n",
    "\n",
    "print(e)\n",
    "\n",
    "# Select all elements from rows 1 and 2 that are in columns 0, 2, and 4\n",
    "ea= reshaped_arr[0:2, [0, 2, 4]]    \n",
    "print('\\nSelect all elements from rows 1 and 2 that are in columns 0, 2, and 4')\n",
    "\n",
    "print(ea)"
   ]
  },
  {
   "cell_type": "markdown",
   "id": "ecaaea2b-0c64-46ce-8ba1-fb7e9ed4b0f5",
   "metadata": {},
   "source": [
    "4. Create the two Numpy arrays below and then complete the following\n",
    "-  Step 1: Use vertical stacking to create the 4 by 2 array named array3 with array1 stacked on top of array2\n",
    "-  Step 2: Use horizontal stacking to create the 2 by 4 array named array4 with array2 to the right of array1\n",
    "-  Step 3: Use vertical stacking with two copies of array4 to create a 4 by 4 array named array5\n",
    "-  Step 4: Use horizontal stacking with two copies of array3 to create a 4 by 4 array named array6\n"
   ]
  },
  {
   "cell_type": "code",
   "execution_count": 12,
   "id": "bb90ebdd-8f00-4fc4-acde-76f094268bdd",
   "metadata": {
    "executionCancelledAt": null,
    "executionTime": null,
    "lastExecutedAt": null,
    "lastScheduledRunId": null,
    "lastSuccessfullyExecutedCode": null,
    "outputsMetadata": {
     "0": {
      "height": 376,
      "type": "stream"
     }
    },
    "tags": []
   },
   "outputs": [
    {
     "name": "stdout",
     "output_type": "stream",
     "text": [
      "\n",
      "Step 1\n",
      "[[1 2]\n",
      " [3 4]\n",
      " [5 6]\n",
      " [7 8]]\n",
      "\n",
      "Step 2\n",
      "[[1 2 5 6]\n",
      " [3 4 7 8]]\n",
      "\n",
      "Step 3\n",
      "[[1 2 5 6]\n",
      " [3 4 7 8]\n",
      " [1 2 5 6]\n",
      " [3 4 7 8]]\n",
      "\n",
      "Step 4\n",
      "[[1 2 1 2]\n",
      " [3 4 3 4]\n",
      " [5 6 5 6]\n",
      " [7 8 7 8]]\n"
     ]
    }
   ],
   "source": [
    "# Code for Problem 4\n",
    "import numpy as np\n",
    "array1 = np.array([[1, 2],[3, 4]])\n",
    "array2 = np.array([[5, 6],[7, 8]])\n",
    "\n",
    "# Step 1\n",
    "array3 = np.vstack((array1, array2))\n",
    "print('\\nStep 1')\n",
    "\n",
    "print(array3)\n",
    "# Step 2\n",
    "array4 = np.hstack((array1, array2))\n",
    "print('\\nStep 2')\n",
    "print(array4)\n",
    "# Step 3\n",
    "array5 = np.vstack((array4, array4))\n",
    "print('\\nStep 3')\n",
    "print(array5)\n",
    "# Step 4\n",
    "array6 = np.hstack((array3, array3))\n",
    "print('\\nStep 4')\n",
    "print(array6)"
   ]
  },
  {
   "cell_type": "raw",
   "id": "27e5209f-f739-4bc7-a4cd-e7cd8b8629f2",
   "metadata": {},
   "source": [
    "5. Perform the following tasks with pandas DataFrame\n",
    "-  Create a DataFrame named temperatures from a dictionary of three temperature readings each for Maxine, James, and Amanda\n",
    "-  Recreated the DataFrame temperatures (above) with custom indices using the index keyword argument and a list ['Morining', 'Afternoon', 'Evening']\n",
    "-  Select from temperatures the column of temperature readings for Maxine\n",
    "-  Select from temperature to row of morning temperature readings\n",
    "-  Select from temperature the rows for morning & evening temperature readings \n",
    "-  Select from temperature the columns of temperature readings for Amanda and Maxine\n",
    "-  Select from temperature the elements for Amanda and Maxine in the morning and afternoon\n",
    "-  Use the describe method to produce descriptive statistics for the temperature dataframe\n",
    "-  Transpose temperature (i.e. flip the rows and columns)\n",
    "-  Sort temperature so that its column names are in alphabetical order (ie Amanda, James, Maxine)"
   ]
  },
  {
   "cell_type": "code",
   "execution_count": 14,
   "id": "ad3ad668-024e-4841-aaa8-e500c5a9435e",
   "metadata": {
    "executionCancelledAt": null,
    "executionTime": 49,
    "lastExecutedAt": 1690139940843,
    "lastScheduledRunId": null,
    "lastSuccessfullyExecutedCode": "# Code for Problem 5\n\n# Create DataFrame\n\n\n# Recreate with custom indicies\n\n\n\n# Select Maxine column\n\n\n# Select morning row\n\n\n# Select morning & evening\n\n\n# Select Amanda and Maxine columns\n\n\n# Select morning & afternoon for Amanda & Maxine\n\n\n# Use describe method on temperature\n\n\n# Sort temperature",
    "outputsMetadata": {
     "0": {
      "height": 144,
      "type": "dataFrame"
     }
    },
    "tags": []
   },
   "outputs": [
    {
     "name": "stdout",
     "output_type": "stream",
     "text": [
      "\n",
      "Recreate with custom indicies\n",
      "             Name  Temperature\n",
      "Morning    Maxine           25\n",
      "Afternoon  Maxine           28\n",
      "Evening    Maxine           30\n",
      "Morning     James           22\n",
      "Afternoon   James           25\n",
      "Evening     James           26\n",
      "Morning    Amanda           27\n",
      "Afternoon  Amanda           29\n",
      "Evening    Amanda           30\n",
      "\n",
      "Select Maxine column\n",
      "Morning      25\n",
      "Afternoon    28\n",
      "Evening      30\n",
      "Name: Temperature, dtype: int64\n",
      "\n",
      "Select morning row\n",
      "           Name  Temperature\n",
      "Morning  Maxine           25\n",
      "Morning   James           22\n",
      "Morning  Amanda           27\n",
      "\n",
      "Select morning & evening\n",
      "           Name  Temperature\n",
      "Evening  Maxine           30\n",
      "Evening   James           26\n",
      "Evening  Amanda           30\n",
      "Morning  Maxine           25\n",
      "Morning   James           22\n",
      "Morning  Amanda           27\n",
      "\n",
      "Select Amanda and Maxine columns\n",
      "             Name  Temperature\n",
      "Morning    Maxine           25\n",
      "Afternoon  Maxine           28\n",
      "Evening    Maxine           30\n",
      "Morning    Amanda           27\n",
      "Afternoon  Amanda           29\n",
      "Evening    Amanda           30\n",
      "\n",
      "Select morning & afternoon for Amanda & Maxine\n",
      "             Name  Temperature\n",
      "Morning    Maxine           25\n",
      "Morning    Amanda           27\n",
      "Afternoon  Maxine           28\n",
      "Afternoon  Amanda           29\n",
      "\n",
      "Use describe method on temperature\n",
      "       Temperature\n",
      "count     9.000000\n",
      "mean     26.888889\n",
      "std       2.666667\n",
      "min      22.000000\n",
      "25%      25.000000\n",
      "50%      27.000000\n",
      "75%      29.000000\n",
      "max      30.000000\n",
      "\n",
      "Transpose the temperature DataFrame\n",
      "            Morning Afternoon Evening Morning Afternoon Evening Morning  \\\n",
      "Name         Maxine    Maxine  Maxine   James     James   James  Amanda   \n",
      "Temperature      25        28      30      22        25      26      27   \n",
      "\n",
      "            Afternoon Evening  \n",
      "Name           Amanda  Amanda  \n",
      "Temperature        29      30  \n",
      "\n",
      "Sort temperature\n",
      "             Name  Temperature\n",
      "Morning    Amanda           27\n",
      "Afternoon  Amanda           29\n",
      "Evening    Amanda           30\n",
      "Morning     James           22\n",
      "Afternoon   James           25\n",
      "Evening     James           26\n",
      "Morning    Maxine           25\n",
      "Afternoon  Maxine           28\n",
      "Evening    Maxine           30\n"
     ]
    }
   ],
   "source": [
    "# Code for Problem 5\n",
    "import numpy as np\n",
    "import pandas as pd\n",
    "# Create DataFrame\n",
    "\n",
    "temperatures = {\n",
    "    'Name': ['Maxine', 'Maxine', 'Maxine', 'James', 'James', 'James', 'Amanda', 'Amanda', 'Amanda'],\n",
    "    'Temperature': [25, 28, 30, 22, 25, 26, 27, 29, 30]\n",
    "}\n",
    "\n",
    "temperatures = pd.DataFrame(temperatures)\n",
    "\n",
    "#print(type(tempatures))\n",
    "# Recreate with custom indicies\n",
    "print('\\nRecreate with custom indicies')\n",
    "custom_indices = ['Morning', 'Afternoon', 'Evening','Morning', 'Afternoon', 'Evening','Morning', 'Afternoon', 'Evening']\n",
    "temperatures.index = custom_indices\n",
    "print(temperatures)\n",
    "\n",
    "# Select Maxine column\n",
    "maxine_temperatures = temperatures[temperatures['Name'] == 'Maxine']['Temperature']\n",
    "print('\\nSelect Maxine column')\n",
    "print(maxine_temperatures)\n",
    "\n",
    "# Select morning row\n",
    "m=temperatures.loc['Morning']\n",
    "print('\\nSelect morning row')\n",
    "print(m)\n",
    "\n",
    "\n",
    "# Select morning & evening\n",
    "e=temperatures.loc[['Evening','Morning']]\n",
    "print('\\nSelect morning & evening')\n",
    "print(e)\n",
    "# Select Amanda and Maxine columns\n",
    "manda_temperatures = temperatures[temperatures['Name'].isin(['Amanda', 'Maxine'])]\n",
    "print('\\nSelect Amanda and Maxine columns')\n",
    "print(manda_temperatures)\n",
    "# Select morning & afternoon for Amanda & Maxine\n",
    "gg= manda_temperatures.loc[['Morning','Afternoon']]\n",
    "print('\\nSelect morning & afternoon for Amanda & Maxine')\n",
    "print(gg)\n",
    "# Use describe method on temperature\n",
    "print('\\nUse describe method on temperature')\n",
    "stat = temperatures.describe()\n",
    "print(stat)\n",
    "# Transpose the temperature DataFrame\n",
    "transposed_temperatures = temperatures.T\n",
    "print('\\nTranspose the temperature DataFrame')\n",
    "print(transposed_temperatures)\n",
    "# Sort temperature\n",
    "tsort=temperatures.sort_values(by='Name')\n",
    "print('\\nSort temperature')\n",
    "print(tsort)"
   ]
  },
  {
   "cell_type": "code",
   "execution_count": null,
   "id": "b6b8a4ff-269e-4f77-88f6-4448dece4624",
   "metadata": {},
   "outputs": [],
   "source": []
  }
 ],
 "metadata": {
  "editor": "DataCamp Workspace",
  "kernelspec": {
   "display_name": "Python 3 (ipykernel)",
   "language": "python",
   "name": "python3"
  },
  "language_info": {
   "codemirror_mode": {
    "name": "ipython",
    "version": 3
   },
   "file_extension": ".py",
   "mimetype": "text/x-python",
   "name": "python",
   "nbconvert_exporter": "python",
   "pygments_lexer": "ipython3",
   "version": "3.10.9"
  }
 },
 "nbformat": 4,
 "nbformat_minor": 5
}
