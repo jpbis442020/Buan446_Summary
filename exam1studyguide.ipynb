{
 "cells": [
  {
   "cell_type": "code",
   "execution_count": null,
   "id": "f059a16f-33cf-4dee-b79c-dbbb39594af8",
   "metadata": {},
   "outputs": [],
   "source": [
    "2.6(Odd or Even) Use if statements to determine whether an integer is odd or even.\n",
    "[Hint: Use the remainder operator. An even number is a multiple of 2. Any multiple of 2\n",
    "leaves a remainder of 0 when divided by 2.]"
   ]
  },
  {
   "cell_type": "code",
   "execution_count": 23,
   "id": "45e02f99-2577-43c2-b448-a320cb7c7f3a",
   "metadata": {
    "tags": []
   },
   "outputs": [
    {
     "name": "stdin",
     "output_type": "stream",
     "text": [
      "Enter an integer:  3\n"
     ]
    },
    {
     "name": "stdout",
     "output_type": "stream",
     "text": [
      "3 is odd.\n"
     ]
    }
   ],
   "source": [
    "# Prompt the user for an integer\n",
    "num = int(input(\"Enter an integer: \"))\n",
    "\n",
    "# Check if the number is odd or even\n",
    "if num % 2 == 0:\n",
    "    print(num, \"is even.\")\n",
    "else:\n",
    "    print(num, \"is odd.\")"
   ]
  },
  {
   "cell_type": "code",
   "execution_count": null,
   "id": "16cc6fcb-9a94-4ddf-a751-ce0c3e58d505",
   "metadata": {},
   "outputs": [],
   "source": [
    "2.7 (Multiples) Use if statements to determine whether 1024 is a multiple of 4 and\n",
    "whether 2 is a multiple of 10. (Hint: Use the remainder operator.)"
   ]
  },
  {
   "cell_type": "code",
   "execution_count": 9,
   "id": "439a251c-f4a4-4215-ac6d-f4da142cac7b",
   "metadata": {
    "tags": []
   },
   "outputs": [
    {
     "name": "stdout",
     "output_type": "stream",
     "text": [
      "1024 is a multiple of 4.\n",
      "2 is not a multiple of 10.\n"
     ]
    }
   ],
   "source": [
    "# Check if 1024 is a multiple of 4\n",
    "if 1024 % 4 == 0:\n",
    "    print(\"1024 is a multiple of 4.\")\n",
    "else:\n",
    "    print(\"1024 is not a multiple of 4.\")\n",
    "\n",
    "# Check if 2 is a multiple of 10\n",
    "if 2 % 10 == 0:\n",
    "    print(\"2 is a multiple of 10.\")\n",
    "else:\n",
    "    print(\"2 is not a multiple of 10.\")"
   ]
  },
  {
   "cell_type": "code",
   "execution_count": null,
   "id": "7d766c08-08da-4698-8891-c9b9a169095c",
   "metadata": {},
   "outputs": [],
   "source": [
    "2.8(Table of Squares and Cubes) Write a script that calculates the squares and cubes\n",
    "of the numbers from 0 to 5. Print the resulting values in table format, as shown below. Use\n",
    "the tab escape sequence to achieve the three-column output.\n",
    "number square cube\n",
    "0 0 0\n",
    "1 1 1\n",
    "2 4 8\n",
    "3 9 27\n",
    "4 16 64\n",
    "5 25 125"
   ]
  },
  {
   "cell_type": "code",
   "execution_count": 12,
   "id": "ef6fb665-bd9f-49a9-b0ab-660863b88def",
   "metadata": {
    "tags": []
   },
   "outputs": [
    {
     "name": "stdout",
     "output_type": "stream",
     "text": [
      "number\tsquare\tcube\n",
      "0\t0\t0\n",
      "1\t1\t1\n",
      "2\t4\t8\n",
      "3\t9\t27\n",
      "4\t16\t64\n",
      "5\t25\t125\n"
     ]
    }
   ],
   "source": [
    "def calculate_squares_and_cubes():\n",
    "    print(\"number\\tsquare\\tcube\")\n",
    "    for number in range(6):\n",
    "        square = number ** 2\n",
    "        cube = number ** 3\n",
    "        print(f\"{number}\\t{square}\\t{cube}\")\n",
    "\n",
    "\n",
    "# Call the function to print the table\n",
    "calculate_squares_and_cubes()"
   ]
  },
  {
   "cell_type": "code",
   "execution_count": null,
   "id": "7c35478c-d076-4842-9cc2-a3fa086680c2",
   "metadata": {},
   "outputs": [],
   "source": [
    "2.12(7% Investment Return) Some investment advisors say that it’s reasonable to ex-\n",
    "pect a 7% return over the long term in the stock market. Assuming that you begin with\n",
    "\n",
    "$1000 and leave your money invested, calculate and display how much money you’ll have\n",
    "after 10, 20 and 30 years. Use the following formula for determining these amounts:\n",
    "a = p(1 + r)^n\n",
    "\n",
    "where\n",
    "p is the original amount invested (i.e., the principal of $1000),\n",
    "r is the annual rate of return (7%),\n",
    "n is the number of years (10, 20 or 30) and\n",
    "a is the amount on deposit at the end of the nth year."
   ]
  },
  {
   "cell_type": "code",
   "execution_count": 13,
   "id": "58f5c47f-8efd-4a0a-99e0-0a9415cfdebb",
   "metadata": {
    "tags": []
   },
   "outputs": [
    {
     "name": "stdout",
     "output_type": "stream",
     "text": [
      "$ 1967.15 is the money you have after 10 years\n",
      "$ 3869.68 is the money you have after 20 years\n",
      "$ 7612.26 is the money you have after 30 years\n"
     ]
    }
   ],
   "source": [
    "p=1000\n",
    "r=.07\n",
    "\n",
    "for n in [10,20,30]:\n",
    "    a=p*(1+r)**n\n",
    "    a=round(a,2)\n",
    "    print(\"$\",a,\"is the money you have after\", n, \"years\")\n"
   ]
  },
  {
   "cell_type": "code",
   "execution_count": null,
   "id": "b2886b44-c674-43fc-98d9-2a4e483d797c",
   "metadata": {},
   "outputs": [],
   "source": [
    "3.1(Validating User Input) Modify the script of Fig. 3.3 to validate its inputs. For any\n",
    "input, if the value entered is other than 1 or 2, keep looping until the user enters a correct\n",
    "value. Use one counter to keep track of the number of passes, then calculate the number\n",
    "of failures after all the user’s inputs have been received."
   ]
  },
  {
   "cell_type": "code",
   "execution_count": 17,
   "id": "20a3ac40-fd4d-4acd-8be8-c81a516f64f7",
   "metadata": {
    "tags": []
   },
   "outputs": [
    {
     "name": "stdin",
     "output_type": "stream",
     "text": [
      "Enter result (1=pass, 2=fail):  1\n",
      "Enter result (1=pass, 2=fail):  1\n",
      "Enter result (1=pass, 2=fail):  1\n",
      "Enter result (1=pass, 2=fail):  1\n",
      "Enter result (1=pass, 2=fail):  1\n",
      "Enter result (1=pass, 2=fail):  1\n",
      "Enter result (1=pass, 2=fail):  1\n",
      "Enter result (1=pass, 2=fail):  1\n",
      "Enter result (1=pass, 2=fail):  1\n",
      "Enter result (1=pass, 2=fail):  1\n"
     ]
    },
    {
     "name": "stdout",
     "output_type": "stream",
     "text": [
      "Number of passes: 10\n",
      "Number of failures: 0\n",
      "Bonus to instructor\n"
     ]
    }
   ],
   "source": [
    "# Initialize counters\n",
    "passes = 0\n",
    "failures = 0\n",
    "\n",
    "# Process 10 students\n",
    "for student in range(10):\n",
    "    # Input validation loop\n",
    "    while True:\n",
    "        # Prompt the user for input\n",
    "        result = int(input(\"Enter result (1=pass, 2=fail): \"))\n",
    "\n",
    "        # Check if the input is valid\n",
    "        if result == 1 or result == 2:\n",
    "            break  # Break out of the validation loop\n",
    "\n",
    "        # If input is invalid, prompt again\n",
    "        print(\"Invalid input. Please enter 1 or 2.\")\n",
    "\n",
    "    # Count passes and failures\n",
    "    if result == 1:\n",
    "        passes += 1\n",
    "    else:\n",
    "        failures += 1\n",
    "\n",
    "# Calculate and print the number of failures\n",
    "print(\"Number of passes:\", passes)\n",
    "print(\"Number of failures:\", failures)\n",
    "\n",
    "\n",
    "if passes > 8:\n",
    "    print('Bonus to instructor')\n"
   ]
  },
  {
   "cell_type": "code",
   "execution_count": null,
   "id": "fdb3f230-b8c5-4e49-b333-903ef4d05d05",
   "metadata": {},
   "outputs": [],
   "source": [
    "3.7(Table of Squares and Cubes) In Exercise 2.8, you wrote a script to calculate the\n",
    "squares and cubes of the numbers from 0 through 5, then printed the resulting values in\n",
    "table format. Reimplement your script using a for loop and the f-string capabilities you\n",
    "learned in this chapter to produce the following table with the numbers right aligned in\n",
    "each column."
   ]
  },
  {
   "cell_type": "code",
   "execution_count": 9,
   "id": "dde10cb1-9bc9-45c3-84aa-25f067404050",
   "metadata": {
    "tags": []
   },
   "outputs": [
    {
     "name": "stdout",
     "output_type": "stream",
     "text": [
      "Number\tSquare\tCube\n",
      "---------------------\n",
      "     0\t     0\t   0\n",
      "     1\t     1\t   1\n",
      "     2\t     4\t   8\n",
      "     3\t     9\t  27\n",
      "     4\t    16\t  64\n",
      "     5\t    25\t 125\n"
     ]
    }
   ],
   "source": [
    "def main():\n",
    "    print(\"Number\\tSquare\\tCube\")\n",
    "    print(\"---------------------\")\n",
    "\n",
    "    for number in range(6):\n",
    "        square = number ** 2\n",
    "        cube = number ** 3\n",
    "        print(f\"{number:>6}\\t{square:>6}\\t{cube:>4}\")\n",
    "\n",
    "\n",
    "\n",
    "main()\n"
   ]
  },
  {
   "cell_type": "code",
   "execution_count": null,
   "id": "58e7dcc9-46fd-4079-b925-d7daf74bce79",
   "metadata": {},
   "outputs": [],
   "source": [
    "3.8(Arithmetic, Smallest and Largest) In Exercise 2.10, you wrote a script that input\n",
    "\n",
    "three integers, then displayed the sum, average, product, smallest and largest of those val-\n",
    "ues. Reimplement your script with a loop that inputs four integers."
   ]
  },
  {
   "cell_type": "code",
   "execution_count": 20,
   "id": "3b4541ec-2343-408d-a3e0-48948603915c",
   "metadata": {
    "tags": []
   },
   "outputs": [
    {
     "name": "stdin",
     "output_type": "stream",
     "text": [
      "Enter integer 1:  1\n",
      "Enter integer 2:  2\n",
      "Enter integer 3:  4\n",
      "Enter integer 4:  66\n"
     ]
    },
    {
     "name": "stdout",
     "output_type": "stream",
     "text": [
      "Sum: 73\n",
      "Average: 18.25\n",
      "Product: 528\n",
      "Smallest: 1\n",
      "Largest: 66\n"
     ]
    }
   ],
   "source": [
    "# Arithmetic, Smallest and Largest\n",
    "numbers = []\n",
    "for i in range(4):\n",
    "    number = int(input(f\"Enter integer {i+1}: \"))\n",
    "    numbers.append(number)\n",
    "\n",
    "# Calculate the sum\n",
    "sum_nums = sum(numbers)\n",
    "\n",
    "# Calculate the average\n",
    "average = sum_nums / len(numbers)\n",
    "\n",
    "# Calculate the product\n",
    "product = 1\n",
    "for number in numbers:\n",
    "    product *= number\n",
    "\n",
    "# Find the smallest and largest numbers\n",
    "smallest = min(numbers)\n",
    "largest = max(numbers)\n",
    "\n",
    "# Display the results\n",
    "print(f\"Sum: {sum_nums}\")\n",
    "print(f\"Average: {average}\")\n",
    "print(f\"Product: {product}\")\n",
    "print(f\"Smallest: {smallest}\")\n",
    "print(f\"Largest: {largest}\")"
   ]
  },
  {
   "cell_type": "code",
   "execution_count": null,
   "id": "77124828-3814-4e38-8e3e-6d137fc796f2",
   "metadata": {},
   "outputs": [],
   "source": [
    "3.10 (7% Investment Return) Reimplement Exercise 2.12 to use a loop that calculates\n",
    "and displays the amount of money you’ll have each year at the ends of years 1 through 30. \n",
    "\n",
    "exercise2.12\"(7% Investment Return) Some investment advisors say that it’s reasonable to ex-\n",
    "pect a 7% return over the long term in the stock market. Assuming that you begin with\n",
    "$1000 and leave your money invested, calculate and display how much money you’ll have\n",
    "after 10, 20 and 30 years. Use the following formula for determining these amounts:\n",
    "a = p(1 + r)^n\""
   ]
  },
  {
   "cell_type": "code",
   "execution_count": 15,
   "id": "941d5b3c-eeb6-4af5-934d-4dd6ea96e06c",
   "metadata": {
    "tags": []
   },
   "outputs": [
    {
     "name": "stdout",
     "output_type": "stream",
     "text": [
      "Year\tAmount on Deposit\n",
      "------------------------\n",
      "1\t$1070.00\n",
      "2\t$1144.90\n",
      "3\t$1225.04\n",
      "4\t$1310.80\n",
      "5\t$1402.55\n",
      "6\t$1500.73\n",
      "7\t$1605.78\n",
      "8\t$1718.19\n",
      "9\t$1838.46\n",
      "10\t$1967.15\n",
      "11\t$2104.85\n",
      "12\t$2252.19\n",
      "13\t$2409.85\n",
      "14\t$2578.53\n",
      "15\t$2759.03\n",
      "16\t$2952.16\n",
      "17\t$3158.82\n",
      "18\t$3379.93\n",
      "19\t$3616.53\n",
      "20\t$3869.68\n",
      "21\t$4140.56\n",
      "22\t$4430.40\n",
      "23\t$4740.53\n",
      "24\t$5072.37\n",
      "25\t$5427.43\n",
      "26\t$5807.35\n",
      "27\t$6213.87\n",
      "28\t$6648.84\n",
      "29\t$7114.26\n",
      "30\t$7612.26\n"
     ]
    }
   ],
   "source": [
    "def main():\n",
    "    principal = 1000  # Initial investment amount\n",
    "    rate_of_return = 0.07  # 7% annual rate of return\n",
    "\n",
    "    years_list = range(1, 31)  # Years from 1 to 30\n",
    "\n",
    "    print(\"Year\\tAmount on Deposit\")\n",
    "    print(\"------------------------\")\n",
    "\n",
    "    for year in years_list:\n",
    "        amount_on_deposit = principal * (1 + rate_of_return) ** year\n",
    "        print(f\"{year}\\t${amount_on_deposit:.2f}\")\n",
    "\n",
    "\n",
    "\n",
    "main()\n"
   ]
  },
  {
   "cell_type": "code",
   "execution_count": null,
   "id": "ac34d2d7-6b96-47f1-aefd-3ffc62f90c62",
   "metadata": {},
   "outputs": [],
   "source": [
    "3.16(Nested Control Statements) Use a loop to find the two largest values of 10 num-\n",
    "bers entered."
   ]
  },
  {
   "cell_type": "code",
   "execution_count": 21,
   "id": "3c2fce9f-64d6-4d5b-bde0-c613d8f45a62",
   "metadata": {
    "tags": []
   },
   "outputs": [
    {
     "name": "stdin",
     "output_type": "stream",
     "text": [
      "Enter number 1:  3\n",
      "Enter number 2:  4\n",
      "Enter number 3:  56\n",
      "Enter number 4:  7\n",
      "Enter number 5:  6\n",
      "Enter number 6:  77\n",
      "Enter number 7:  8\n",
      "Enter number 8:  9\n",
      "Enter number 9:  5\n",
      "Enter number 10:  6\n"
     ]
    },
    {
     "name": "stdout",
     "output_type": "stream",
     "text": [
      "The largest number is: 77.0\n",
      "The second largest number is: 56.0\n"
     ]
    }
   ],
   "source": [
    "largest = float('-inf')  # Initialize largest variable with negative infinity\n",
    "second_largest = float('-inf')  # Initialize second_largest variable with negative infinity\n",
    "\n",
    "# Loop to input 10 numbers\n",
    "for i in range(10):\n",
    "    number = float(input(f\"Enter number {i+1}: \"))\n",
    "    \n",
    "    if number > largest:\n",
    "        second_largest = largest\n",
    "        largest = number\n",
    "    elif number > second_largest:\n",
    "        second_largest = number\n",
    "\n",
    "# Print the two largest values\n",
    "print(f\"The largest number is: {largest}\")\n",
    "print(f\"The second largest number is: {second_largest}\")"
   ]
  },
  {
   "cell_type": "code",
   "execution_count": null,
   "id": "c5d14092-d6ea-49ee-bb8c-d527a10ab988",
   "metadata": {},
   "outputs": [],
   "source": [
    "4.8(Rounding Numbers) Investigate built-in function round at\n",
    "https://docs.python.org/3/library/functions.html#round\n",
    "then use it to round the float value 13.56449 to the nearest integer, tenths, hundredths\n",
    "and thousandths positions."
   ]
  },
  {
   "cell_type": "code",
   "execution_count": 17,
   "id": "d30e6fa5-628e-451e-b097-128bc7d651b0",
   "metadata": {
    "tags": []
   },
   "outputs": [
    {
     "name": "stdout",
     "output_type": "stream",
     "text": [
      "Rounded to the nearest integer: 14\n",
      "Rounded to the nearest tenths: 13.6\n",
      "Rounded to the nearest hundredths: 13.56\n",
      "Rounded to the nearest thousandths: 13.564\n"
     ]
    }
   ],
   "source": [
    "number = 13.56449\n",
    "\n",
    "# Round to the nearest integer (default)\n",
    "rounded_nearest_integer = round(number)\n",
    "print(\"Rounded to the nearest integer:\", rounded_nearest_integer)\n",
    "\n",
    "# Round to the nearest tenths (one decimal place)\n",
    "rounded_tenths = round(number, 1)\n",
    "print(\"Rounded to the nearest tenths:\", rounded_tenths)\n",
    "\n",
    "# Round to the nearest hundredths (two decimal places)\n",
    "rounded_hundredths = round(number, 2)\n",
    "print(\"Rounded to the nearest hundredths:\", rounded_hundredths)\n",
    "\n",
    "# Round to the nearest thousandths (three decimal places)\n",
    "rounded_thousandths = round(number, 3)\n",
    "print(\"Rounded to the nearest thousandths:\", rounded_thousandths)\n"
   ]
  },
  {
   "cell_type": "code",
   "execution_count": null,
   "id": "42b10853-f3db-4d49-b6e8-10f791a5607a",
   "metadata": {},
   "outputs": [],
   "source": [
    "4.9(Temperature Conversion) Implement a fahrenheit function that returns the\n",
    "Fahrenheit equivalent of a Celsius temperature. Use the following formula:\n",
    "F = (9 / 5) * C + 32\n",
    "\n",
    "Use this function to print a chart showing the Fahrenheit equivalents of all Celsius tem-\n",
    "peratures in the range 0–100 degrees. Use one digit of precision for the results. Print the\n",
    "\n",
    "outputs in a neat tabular format."
   ]
  },
  {
   "cell_type": "code",
   "execution_count": 19,
   "id": "fde5d2c8-0483-41fc-941e-e3f57af2d014",
   "metadata": {
    "tags": []
   },
   "outputs": [
    {
     "name": "stdout",
     "output_type": "stream",
     "text": [
      "Celsius\tFahrenheit\n",
      "------------------\n",
      "0\t32.0\n",
      "1\t33.8\n",
      "2\t35.6\n",
      "3\t37.4\n",
      "4\t39.2\n",
      "5\t41.0\n",
      "6\t42.8\n",
      "7\t44.6\n",
      "8\t46.4\n",
      "9\t48.2\n",
      "10\t50.0\n",
      "11\t51.8\n",
      "12\t53.6\n",
      "13\t55.4\n",
      "14\t57.2\n",
      "15\t59.0\n",
      "16\t60.8\n",
      "17\t62.6\n",
      "18\t64.4\n",
      "19\t66.2\n",
      "20\t68.0\n",
      "21\t69.8\n",
      "22\t71.6\n",
      "23\t73.4\n",
      "24\t75.2\n",
      "25\t77.0\n",
      "26\t78.8\n",
      "27\t80.6\n",
      "28\t82.4\n",
      "29\t84.2\n",
      "30\t86.0\n",
      "31\t87.8\n",
      "32\t89.6\n",
      "33\t91.4\n",
      "34\t93.2\n",
      "35\t95.0\n",
      "36\t96.8\n",
      "37\t98.6\n",
      "38\t100.4\n",
      "39\t102.2\n",
      "40\t104.0\n",
      "41\t105.8\n",
      "42\t107.6\n",
      "43\t109.4\n",
      "44\t111.2\n",
      "45\t113.0\n",
      "46\t114.8\n",
      "47\t116.6\n",
      "48\t118.4\n",
      "49\t120.2\n",
      "50\t122.0\n",
      "51\t123.8\n",
      "52\t125.6\n",
      "53\t127.4\n",
      "54\t129.2\n",
      "55\t131.0\n",
      "56\t132.8\n",
      "57\t134.6\n",
      "58\t136.4\n",
      "59\t138.2\n",
      "60\t140.0\n",
      "61\t141.8\n",
      "62\t143.6\n",
      "63\t145.4\n",
      "64\t147.2\n",
      "65\t149.0\n",
      "66\t150.8\n",
      "67\t152.6\n",
      "68\t154.4\n",
      "69\t156.2\n",
      "70\t158.0\n",
      "71\t159.8\n",
      "72\t161.6\n",
      "73\t163.4\n",
      "74\t165.2\n",
      "75\t167.0\n",
      "76\t168.8\n",
      "77\t170.6\n",
      "78\t172.4\n",
      "79\t174.2\n",
      "80\t176.0\n",
      "81\t177.8\n",
      "82\t179.6\n",
      "83\t181.4\n",
      "84\t183.2\n",
      "85\t185.0\n",
      "86\t186.8\n",
      "87\t188.6\n",
      "88\t190.4\n",
      "89\t192.2\n",
      "90\t194.0\n",
      "91\t195.8\n",
      "92\t197.6\n",
      "93\t199.4\n",
      "94\t201.2\n",
      "95\t203.0\n",
      "96\t204.8\n",
      "97\t206.6\n",
      "98\t208.4\n",
      "99\t210.2\n",
      "100\t212.0\n"
     ]
    }
   ],
   "source": [
    "def print_temperature_chart():\n",
    "    print(\"Celsius\\tFahrenheit\")\n",
    "    print(\"------------------\")\n",
    "\n",
    "    for celsius in range(101):\n",
    "        fahrenheit = (9 / 5) * celsius + 32\n",
    "        print(f\"{celsius}\\t{fahrenheit:.1f}\")\n",
    "\n",
    "\n",
    "print_temperature_chart()\n"
   ]
  },
  {
   "cell_type": "code",
   "execution_count": null,
   "id": "2f9e7f80-bc73-47b2-9106-7ff9f1249557",
   "metadata": {},
   "outputs": [],
   "source": [
    "4.10(Guess the Number) Write a script that plays “guess the number.” Choose the\n",
    "number to be guessed by selecting a random integer in the range 1 to 1000. Do not reveal\n",
    "this number to the user. Display the prompt \"Guess my number between 1 and 1000 with\n",
    "the fewest guesses:\". The player inputs a first guess. If the guess is incorrect, display\n",
    "\"Too high. Try again.\" or \"Too low. Try again.\" as appropriate to help the player “zero\n",
    "in” on the correct answer, then prompt the user for the next guess. When the user enters\n",
    "the correct answer, display \"Congratulations. You guessed the number!\", and allow the\n",
    "user to choose whether to play again."
   ]
  },
  {
   "cell_type": "code",
   "execution_count": 22,
   "id": "05facee0-1000-408e-9728-5815bc339acb",
   "metadata": {
    "tags": []
   },
   "outputs": [
    {
     "name": "stdin",
     "output_type": "stream",
     "text": [
      "Guess my number between 1 and 1000 with the fewest guesses:  500\n"
     ]
    },
    {
     "name": "stdout",
     "output_type": "stream",
     "text": [
      "Too high. Try again.\n"
     ]
    },
    {
     "name": "stdin",
     "output_type": "stream",
     "text": [
      "Guess my number between 1 and 1000 with the fewest guesses:  300\n"
     ]
    },
    {
     "name": "stdout",
     "output_type": "stream",
     "text": [
      "Too high. Try again.\n"
     ]
    },
    {
     "name": "stdin",
     "output_type": "stream",
     "text": [
      "Guess my number between 1 and 1000 with the fewest guesses:  100\n"
     ]
    },
    {
     "name": "stdout",
     "output_type": "stream",
     "text": [
      "Too low. Try again.\n"
     ]
    },
    {
     "name": "stdin",
     "output_type": "stream",
     "text": [
      "Guess my number between 1 and 1000 with the fewest guesses:  200\n"
     ]
    },
    {
     "name": "stdout",
     "output_type": "stream",
     "text": [
      "Too low. Try again.\n"
     ]
    },
    {
     "name": "stdin",
     "output_type": "stream",
     "text": [
      "Guess my number between 1 and 1000 with the fewest guesses:  250\n"
     ]
    },
    {
     "name": "stdout",
     "output_type": "stream",
     "text": [
      "Too high. Try again.\n"
     ]
    },
    {
     "name": "stdin",
     "output_type": "stream",
     "text": [
      "Guess my number between 1 and 1000 with the fewest guesses:  225\n"
     ]
    },
    {
     "name": "stdout",
     "output_type": "stream",
     "text": [
      "Too low. Try again.\n"
     ]
    },
    {
     "name": "stdin",
     "output_type": "stream",
     "text": [
      "Guess my number between 1 and 1000 with the fewest guesses:  235\n"
     ]
    },
    {
     "name": "stdout",
     "output_type": "stream",
     "text": [
      "Too low. Try again.\n"
     ]
    },
    {
     "name": "stdin",
     "output_type": "stream",
     "text": [
      "Guess my number between 1 and 1000 with the fewest guesses:  245\n"
     ]
    },
    {
     "name": "stdout",
     "output_type": "stream",
     "text": [
      "Too high. Try again.\n"
     ]
    },
    {
     "name": "stdin",
     "output_type": "stream",
     "text": [
      "Guess my number between 1 and 1000 with the fewest guesses:  240\n"
     ]
    },
    {
     "name": "stdout",
     "output_type": "stream",
     "text": [
      "Too high. Try again.\n"
     ]
    },
    {
     "name": "stdin",
     "output_type": "stream",
     "text": [
      "Guess my number between 1 and 1000 with the fewest guesses:  238\n"
     ]
    },
    {
     "name": "stdout",
     "output_type": "stream",
     "text": [
      "Too high. Try again.\n"
     ]
    },
    {
     "name": "stdin",
     "output_type": "stream",
     "text": [
      "Guess my number between 1 and 1000 with the fewest guesses:  237\n"
     ]
    },
    {
     "name": "stdout",
     "output_type": "stream",
     "text": [
      "Congratulations. You guessed the number!\n",
      "Number of guesses: 11\n"
     ]
    },
    {
     "name": "stdin",
     "output_type": "stream",
     "text": [
      "Do you want to play again? (yes/no):  no\n"
     ]
    }
   ],
   "source": [
    "import random\n",
    "\n",
    "def play_guess_the_number():\n",
    "    # Generate a random number between 1 and 1000\n",
    "    target_number = random.randint(1, 1000)\n",
    "    num_guesses = 0\n",
    "\n",
    "    while True:\n",
    "        # Prompt the user to guess the number\n",
    "        user_guess = int(input(\"Guess my number between 1 and 1000 with the fewest guesses: \"))\n",
    "        num_guesses += 1\n",
    "\n",
    "        if user_guess == target_number:\n",
    "            print(\"Congratulations. You guessed the number!\")\n",
    "            break\n",
    "        elif user_guess < target_number:\n",
    "            print(\"Too low. Try again.\")\n",
    "        else:\n",
    "            print(\"Too high. Try again.\")\n",
    "\n",
    "    print(\"Number of guesses:\", num_guesses)\n",
    "\n",
    "    play_again = input(\"Do you want to play again? (yes/no): \")\n",
    "    if play_again.lower() == \"yes\":\n",
    "        play_guess_the_number()\n",
    "\n",
    "# Start the game\n",
    "play_guess_the_number()"
   ]
  },
  {
   "cell_type": "code",
   "execution_count": null,
   "id": "ef05f468-fd36-4225-81b4-2f70f7c7c23f",
   "metadata": {},
   "outputs": [],
   "source": [
    "5.5(IPython Session: Slicing) Create a string called alphabet containing 'abcdefghi-\n",
    "jklmnopqrstuvwxyz', then perform the following separate slice operations to obtain:\n",
    "\n",
    "a) The first half of the string using starting and ending indices.\n",
    "b) The first half of the string using only the ending index.\n",
    "c) The second half of the string using starting and ending indices.\n",
    "d) The second half of the string using only the starting index.\n",
    "e) Every second letter in the string starting with 'a'.\n",
    "f) The entire string in reverse.\n",
    "g) Every third letter of the string in reverse starting with 'z'."
   ]
  },
  {
   "cell_type": "code",
   "execution_count": 22,
   "id": "cef5d448-a963-4023-8bea-974d0f096e7a",
   "metadata": {
    "tags": []
   },
   "outputs": [
    {
     "name": "stdout",
     "output_type": "stream",
     "text": [
      "a) First half of the string: abcdefghijklm\n",
      "b) First half of the string (using only the ending index): abcdefghijklm\n",
      "c) Second half of the string: nopqrstuvwxyz\n",
      "d) Second half of the string (using only the starting index): nopqrstuvwxyz\n",
      "e) Every second letter in the string starting with 'a': acegikmoqsuwy\n",
      "f) The entire string in reverse: zyxwvutsrqponmlkjihgfedcba\n",
      "g) Every third letter of the string in reverse starting with 'z': zwtqnkheb\n"
     ]
    }
   ],
   "source": [
    "alphabet = 'abcdefghijklmnopqrstuvwxyz'\n",
    "\n",
    "# a) The first half of the string using starting and ending indices.\n",
    "first_half_start = 0\n",
    "first_half_end = len(alphabet) // 2\n",
    "first_half = alphabet[first_half_start:first_half_end]\n",
    "print(\"a) First half of the string:\", first_half)\n",
    "\n",
    "# b) The first half of the string using only the ending index.\n",
    "first_half_ending_index = len(alphabet) // 2\n",
    "first_half_only_ending = alphabet[:first_half_ending_index]\n",
    "print(\"b) First half of the string (using only the ending index):\", first_half_only_ending)\n",
    "\n",
    "# c) The second half of the string using starting and ending indices.\n",
    "second_half_start = len(alphabet) // 2\n",
    "second_half_end = len(alphabet)\n",
    "second_half = alphabet[second_half_start:second_half_end]\n",
    "print(\"c) Second half of the string:\", second_half)\n",
    "\n",
    "# d) The second half of the string using only the starting index.\n",
    "second_half_start_only = alphabet[second_half_start:]\n",
    "print(\"d) Second half of the string (using only the starting index):\", second_half_start_only)\n",
    "\n",
    "# e) Every second letter in the string starting with 'a'.\n",
    "every_second_letter = alphabet[::2]\n",
    "print(\"e) Every second letter in the string starting with 'a':\", every_second_letter)\n",
    "\n",
    "# f) The entire string in reverse.\n",
    "entire_string_reverse = alphabet[::-1]\n",
    "print(\"f) The entire string in reverse:\", entire_string_reverse)\n",
    "\n",
    "# g) Every third letter of the string in reverse starting with 'z'.\n",
    "every_third_letter_reverse = alphabet[::-3]\n",
    "print(\"g) Every third letter of the string in reverse starting with 'z':\", every_third_letter_reverse)\n"
   ]
  },
  {
   "cell_type": "code",
   "execution_count": 37,
   "id": "d6270d7a-624a-469b-af27-e952f077b12e",
   "metadata": {},
   "outputs": [
    {
     "name": "stdout",
     "output_type": "stream",
     "text": [
      "True\n",
      "False\n",
      "True\n",
      "True\n"
     ]
    }
   ],
   "source": [
    "a = [1, 2, 3]\n",
    "\n",
    "b = [1, 2, 3]\n",
    "\n",
    "c = [1, 2, 3, 4]\n",
    "\n",
    "print(a==b)\n",
    "print(a==c)\n",
    "print(a<c)\n",
    "print(c>=b)"
   ]
  },
  {
   "cell_type": "code",
   "execution_count": 57,
   "id": "de047df0-4c20-4d73-b837-ea57b2e3fd86",
   "metadata": {
    "tags": []
   },
   "outputs": [
    {
     "name": "stdout",
     "output_type": "stream",
     "text": [
      "0.75\n"
     ]
    }
   ],
   "source": [
    "c = ([1,2,3,4],[5,6,7,8],[9,10,11,12])\n",
    "c[2][0]=10\n",
    "print(45/60)\n"
   ]
  },
  {
   "cell_type": "code",
   "execution_count": 40,
   "id": "3cecc167-b41a-4ca7-97d2-fd500534ef82",
   "metadata": {
    "tags": []
   },
   "outputs": [
    {
     "ename": "IndexError",
     "evalue": "tuple index out of range",
     "output_type": "error",
     "traceback": [
      "\u001b[0;31m---------------------------------------------------------------------------\u001b[0m",
      "\u001b[0;31mIndexError\u001b[0m                                Traceback (most recent call last)",
      "Cell \u001b[0;32mIn[40], line 2\u001b[0m\n\u001b[1;32m      1\u001b[0m c \u001b[38;5;241m=\u001b[39m ([\u001b[38;5;241m1\u001b[39m,\u001b[38;5;241m2\u001b[39m,\u001b[38;5;241m3\u001b[39m,\u001b[38;5;241m4\u001b[39m],[\u001b[38;5;241m5\u001b[39m,\u001b[38;5;241m6\u001b[39m,\u001b[38;5;241m7\u001b[39m,\u001b[38;5;241m8\u001b[39m],[\u001b[38;5;241m9\u001b[39m,\u001b[38;5;241m10\u001b[39m,\u001b[38;5;241m11\u001b[39m,\u001b[38;5;241m12\u001b[39m])\n\u001b[0;32m----> 2\u001b[0m \u001b[38;5;28mprint\u001b[39m(\u001b[43mc\u001b[49m\u001b[43m[\u001b[49m\u001b[38;5;241;43m3\u001b[39;49m\u001b[43m]\u001b[49m[\u001b[38;5;241m4\u001b[39m])\n",
      "\u001b[0;31mIndexError\u001b[0m: tuple index out of range"
     ]
    }
   ],
   "source": [
    "c = ([1,2,3,4],[5,6,7,8],[9,10,11,12])\n",
    "print(c[3][4])"
   ]
  },
  {
   "cell_type": "code",
   "execution_count": null,
   "id": "3126da81-ce85-4be5-afda-c38d2ab01c93",
   "metadata": {},
   "outputs": [],
   "source": []
  }
 ],
 "metadata": {
  "kernelspec": {
   "display_name": "Python 3 (ipykernel)",
   "language": "python",
   "name": "python3"
  },
  "language_info": {
   "codemirror_mode": {
    "name": "ipython",
    "version": 3
   },
   "file_extension": ".py",
   "mimetype": "text/x-python",
   "name": "python",
   "nbconvert_exporter": "python",
   "pygments_lexer": "ipython3",
   "version": "3.10.9"
  }
 },
 "nbformat": 4,
 "nbformat_minor": 5
}
