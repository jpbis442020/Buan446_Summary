{
 "cells": [
  {
   "cell_type": "markdown",
   "id": "a90e0d72-7e4b-48fb-8c62-825e4cd921bf",
   "metadata": {},
   "source": [
    "# Week 2 Problem Set"
   ]
  },
  {
   "cell_type": "markdown",
   "id": "b1dfd602-8c85-4e88-841b-351f487b7fe5",
   "metadata": {},
   "source": [
    "Each week you will have a problem set due on Sunday night before midnight.\n",
    "You will download a template Jupyter notebook file (like this one) and complete all of your work in the file then save it with your last name in the following format:\n",
    "lastname_week2.ipynb for example I would submit Zematis_week2.ipynb  "
   ]
  },
  {
   "cell_type": "raw",
   "id": "80d09386-8972-421f-8080-b2ba245c4b0d",
   "metadata": {},
   "source": [
    "1. Create a python function that will convert inches to centimeters. use this function to create a table of inches in the range of 55 to 78. Use one digit precision and return the results in a neat tabular format.\n",
    "Note: Don't forget the Docstring!"
   ]
  },
  {
   "cell_type": "code",
   "execution_count": 14,
   "id": "9e7e055d-91f7-4742-a888-dbce4e0cea82",
   "metadata": {},
   "outputs": [
    {
     "name": "stdout",
     "output_type": "stream",
     "text": [
      "inch --> cm\n",
      "55 --> 139.7\n",
      "56 --> 142.24\n",
      "57 --> 144.78\n",
      "58 --> 147.32\n",
      "59 --> 149.86\n",
      "60 --> 152.4\n",
      "61 --> 154.94\n",
      "62 --> 157.48\n",
      "63 --> 160.02\n",
      "64 --> 162.56\n",
      "65 --> 165.1\n",
      "66 --> 167.64\n",
      "67 --> 170.18\n",
      "68 --> 172.72\n",
      "69 --> 175.26\n",
      "70 --> 177.8\n",
      "71 --> 180.34\n",
      "72 --> 182.88\n",
      "73 --> 185.42\n",
      "74 --> 187.96\n",
      "75 --> 190.5\n",
      "76 --> 193.04\n",
      "77 --> 195.58\n"
     ]
    }
   ],
   "source": [
    "# Code for Problem 1\n",
    "def itocm():\n",
    "    \"\"\"inch to cm\"\"\"\n",
    "    print('inch --> cm')\n",
    "    for x in range (55,78):\n",
    "        cm=2.54*x\n",
    "        cm=round(cm,2)\n",
    "        print(x,'-->',cm)\n",
    "    return \n",
    "itocm()"
   ]
  },
  {
   "cell_type": "markdown",
   "id": "7d4ade26-f838-4d75-8ec4-93305fccc728",
   "metadata": {},
   "source": [
    "Problem: Factorial Calculation\n",
    "\n",
    "Write a Python function called calculate_factorial that takes an integer n as an argument and returns the factorial of n. The factorial of a non-negative integer n, denoted by n!, is the product of all positive integers less than or equal to n.\n",
    "\n",
    "For example, the factorial of 5 (5!) is calculated as 5 × 4 × 3 × 2 × 1, which equals 120.\n",
    "\n",
    "Your task is to implement the calculate_factorial function using a recursive approach. You should not use any built-in functions or libraries for calculating the factorial.\n",
    "\n",
    "To solve the problem, follow these steps:\n",
    "\n",
    "Define the function calculate_factorial that takes an integer n as an argument.\n",
    "Check the base case: if n is 0 or 1, return 1 since the factorial of 0 or 1 is 1.\n",
    "Otherwise, multiply n by the factorial of n-1 (i.e., n * calculate_factorial(n-1)) and return the result.\n",
    "Your function should be able to handle non-negative integers as inputs.\n",
    "\n",
    "Example usage:\n",
    "\n",
    "python\n",
    "\n",
    "print(calculate_factorial(5))  # Output: 120\n",
    "print(calculate_factorial(0))  # Output: 1\n",
    "print(calculate_factorial(10)) # Output: 3628800\n",
    "\n",
    "\n",
    "Note: Make sure your function returns the correct results for different test cases\n",
    "\n",
    "Once you have implemented the calculate_factorial function, you can test it with different inputs to verify its correctness."
   ]
  },
  {
   "cell_type": "code",
   "execution_count": 66,
   "id": "587a5cd4-418c-4e66-bab0-f0571ae82536",
   "metadata": {},
   "outputs": [
    {
     "name": "stdout",
     "output_type": "stream",
     "text": [
      "The factorial of 5 is: 120\n"
     ]
    }
   ],
   "source": [
    "# Code for Problem 2\n",
    "def calculate_factorial(num=5):\n",
    "    \"\"\"factorial\"\"\"  \n",
    "    while num < 0:\n",
    "        print('Error: Please enter a non-negative integer')\n",
    "        num = int(input(\"Enter a non-negative integer: \"))\n",
    "\n",
    "    sol = num  \n",
    "\n",
    "    if num == 0 or num == 1:\n",
    "        print(num, 'factorial is', 1)\n",
    "    else:\n",
    "        for i in range(2, num):\n",
    "            sol *= i\n",
    "\n",
    "        print(\"The factorial of\", num, \"is:\", sol)\n",
    "\n",
    "calculate_factorial()"
   ]
  },
  {
   "cell_type": "markdown",
   "id": "a5f48192-5e61-42f3-a8e0-8da686e2b8ac",
   "metadata": {},
   "source": [
    "3. Improve on the code for Problem 2 by adding an input function so a user can enter an integer."
   ]
  },
  {
   "cell_type": "code",
   "execution_count": 3,
   "id": "dca17852-2146-49d0-a895-40c65d3de45f",
   "metadata": {},
   "outputs": [],
   "source": [
    "# Code for Problem 3\n",
    "\n",
    "def calculate_factorial():\n",
    "    \"\"\"factorial\"\"\"\n",
    "    num = int(input(\"Enter a non-negative integer: \"))\n",
    "    \n",
    "    while num < 0:\n",
    "        print('Error: Please enter a non-negative integer')\n",
    "        num = int(input(\"Enter a non-negative integer: \"))\n",
    "\n",
    "    sol = num  \n",
    "\n",
    "    if num == 0 or num == 1:\n",
    "        print(num, 'factorial is', 1)\n",
    "    else:\n",
    "        for i in range(2, num):\n",
    "            sol *= i\n",
    "\n",
    "        print(\"The factorial of\", num, \"is:\", sol)\n",
    "\n",
    "calculate_factorial()"
   ]
  },
  {
   "cell_type": "markdown",
   "id": "ecaaea2b-0c64-46ce-8ba1-fb7e9ed4b0f5",
   "metadata": {},
   "source": [
    "4. Default Parameter Values\n",
    "Write a function that calculates the area of a circle using the following formula:\n",
    "### A=πr2\n",
    "The function should accept 2 arguments for Pi and radius. Set a default value for Pi of 3.14. The function should work by providing just one argument (radius) or two if you decide to use a difference number for Pi (3.1416, for example)\n"
   ]
  },
  {
   "cell_type": "code",
   "execution_count": 67,
   "id": "7c9afdbb-7562-4bc6-9f60-5db12ed8d94d",
   "metadata": {},
   "outputs": [
    {
     "name": "stdout",
     "output_type": "stream",
     "text": [
      "area of the circle is: 6.28\n"
     ]
    }
   ],
   "source": [
    "# Code for Problem 4\n",
    "def area_circle(r=1,pie=3.14):\n",
    "    a=pie*r*2\n",
    "    print('area of the circle is:', a)\n",
    "area_circle()\n"
   ]
  },
  {
   "cell_type": "markdown",
   "id": "af890c13-41eb-4163-94cd-1cc064fffaae",
   "metadata": {},
   "source": [
    "5. Modify the code in fig04_01.py (see final attached to this assignment) to simulate 6000 rolls of 2 six-sided dice, sum the rolls (i.e. face1 = 4 face2 = 5 4 +5 = 9) and the create a table with the frequency of the sums of each roll."
   ]
  },
  {
   "cell_type": "code",
   "execution_count": 79,
   "id": "ad3ad668-024e-4841-aaa8-e500c5a9435e",
   "metadata": {},
   "outputs": [
    {
     "name": "stdout",
     "output_type": "stream",
     "text": [
      "FacetotalFrequency of face total\n",
      "   2          188\n",
      "   3          340\n",
      "   4          486\n",
      "   5          678\n",
      "   6          802\n",
      "   7         1020\n",
      "   8          825\n",
      "   9          656\n",
      "  10          502\n",
      "  11          334\n",
      "  12          169\n"
     ]
    }
   ],
   "source": [
    "# Code for Problem 5\n",
    "\n",
    "\"\"\"Roll a six-sided die 6,000,000 times.\"\"\"\n",
    "import random\n",
    "\n",
    "# face frequency counters\n",
    "secfrequency2 = 0\n",
    "secfrequency3 = 0\n",
    "secfrequency4 = 0\n",
    "secfrequency5 = 0\n",
    "secfrequency6 = 0\n",
    "secfrequency7 = 0\n",
    "secfrequency8 = 0\n",
    "secfrequency9 = 0\n",
    "secfrequency10 = 0\n",
    "secfrequency11 = 0\n",
    "secfrequency12 = 0\n",
    "\n",
    "\n",
    "# 6,000,000 die rolls\n",
    "for roll in range(6_000):  # note underscore separators\n",
    "    face = random.randrange(1, 7)\n",
    "    face2 = random.randrange(1, 7)\n",
    "    totface=face+face2\n",
    "    # increment appropriate face counter\n",
    "    if totface == 2:\n",
    "        secfrequency2 += 1\n",
    "    elif totface == 3:\n",
    "        secfrequency3 += 1\n",
    "    elif totface == 4:\n",
    "        secfrequency4 += 1\n",
    "    elif totface == 5:\n",
    "        secfrequency5 += 1\n",
    "    elif totface == 5:\n",
    "        secfrequency5 += 1\n",
    "    elif totface == 6:\n",
    "        secfrequency6 += 1\n",
    "    elif totface == 7:\n",
    "        secfrequency7 += 1\n",
    "    elif totface == 8:\n",
    "        secfrequency8 += 1\n",
    "    elif totface == 9:\n",
    "        secfrequency9 += 1\n",
    "    elif totface == 10:\n",
    "        secfrequency10 += 1\n",
    "    elif totface == 11:\n",
    "        secfrequency11 += 1\n",
    "    elif totface == 12:\n",
    "        secfrequency12 += 1\n",
    "\n",
    "areas = ['total', 'frequency of face total',2, secfrequency2, 3, secfrequency3, 4, secfrequency4, 5, secfrequency5, 6, secfrequency6, 7, secfrequency7, 8, secfrequency8,9, secfrequency9,10, secfrequency10,11, secfrequency11,12, secfrequency12]\n",
    "\n",
    "print(f'Facetotal{\"Frequency of face total\":>13}')\n",
    "print(f'{2:>4}{secfrequency2:>13}')\n",
    "print(f'{3:>4}{secfrequency3:>13}')\n",
    "print(f'{4:>4}{secfrequency4:>13}')\n",
    "print(f'{5:>4}{secfrequency5:>13}')\n",
    "print(f'{6:>4}{secfrequency6:>13}')\n",
    "print(f'{7:>4}{secfrequency7:>13}')\n",
    "print(f'{8:>4}{secfrequency8:>13}')\n",
    "print(f'{9:>4}{secfrequency9:>13}')\n",
    "print(f'{10:>4}{secfrequency10:>13}')\n",
    "print(f'{11:>4}{secfrequency11:>13}')\n",
    "print(f'{12:>4}{secfrequency12:>13}')\n"
   ]
  },
  {
   "cell_type": "markdown",
   "id": "acc5c287-9de8-4963-92a2-e1ed9c7c4389",
   "metadata": {},
   "source": [
    "6. Create a bar plot of the table you created in problem 5"
   ]
  },
  {
   "cell_type": "code",
   "execution_count": 99,
   "id": "d0c768b6-2f80-418f-951e-290a8f40a6fc",
   "metadata": {},
   "outputs": [
    {
     "name": "stdout",
     "output_type": "stream",
     "text": [
      "FacetotalFrequency of face total\n",
      "   2          151\n",
      "   3          348\n",
      "   4          472\n",
      "   5          687\n",
      "   6          806\n",
      "   7          991\n",
      "   8          850\n",
      "   9          705\n",
      "  10          481\n",
      "  11          349\n",
      "  12          160\n"
     ]
    },
    {
     "data": {
      "image/png": "[encoded data removed]",
      "text/plain": [
       "<Figure size 640x480 with 1 Axes>"
      ]
     },
     "metadata": {},
     "output_type": "display_data"
    }
   ],
   "source": [
    "# Code for Problem 6\n",
    "import matplotlib.pyplot as plt\n",
    "\n",
    "\"\"\"Roll a six-sided die 6,000,000 times.\"\"\"\n",
    "import random\n",
    "\n",
    "# face frequency counters\n",
    "secfrequency2 = 0\n",
    "secfrequency3 = 0\n",
    "secfrequency4 = 0\n",
    "secfrequency5 = 0\n",
    "secfrequency6 = 0\n",
    "secfrequency7 = 0\n",
    "secfrequency8 = 0\n",
    "secfrequency9 = 0\n",
    "secfrequency10 = 0\n",
    "secfrequency11 = 0\n",
    "secfrequency12 = 0\n",
    "\n",
    "\n",
    "# 6,000,000 die rolls\n",
    "for roll in range(6_000):  # note underscore separators\n",
    "    face = random.randrange(1, 7)\n",
    "    face2 = random.randrange(1, 7)\n",
    "    totface=face+face2\n",
    "    # increment appropriate face counter\n",
    "    if totface == 2:\n",
    "        secfrequency2 += 1\n",
    "    elif totface == 3:\n",
    "        secfrequency3 += 1\n",
    "    elif totface == 4:\n",
    "        secfrequency4 += 1\n",
    "    elif totface == 5:\n",
    "        secfrequency5 += 1\n",
    "    elif totface == 5:\n",
    "        secfrequency5 += 1\n",
    "    elif totface == 6:\n",
    "        secfrequency6 += 1\n",
    "    elif totface == 7:\n",
    "        secfrequency7 += 1\n",
    "    elif totface == 8:\n",
    "        secfrequency8 += 1\n",
    "    elif totface == 9:\n",
    "        secfrequency9 += 1\n",
    "    elif totface == 10:\n",
    "        secfrequency10 += 1\n",
    "    elif totface == 11:\n",
    "        secfrequency11 += 1\n",
    "    elif totface == 12:\n",
    "        secfrequency12 += 1\n",
    "\n",
    "a= [secfrequency2,secfrequency3,secfrequency4,secfrequency5,secfrequency6,secfrequency7,secfrequency8,secfrequency9,secfrequency10,secfrequency11,secfrequency12]\n",
    "a1=[2,3,4,5,6,7,8,9,10,11,12]\n",
    "print(f'Facetotal{\"Frequency of face total\":>13}')\n",
    "print(f'{2:>4}{secfrequency2:>13}')\n",
    "print(f'{3:>4}{secfrequency3:>13}')\n",
    "print(f'{4:>4}{secfrequency4:>13}')\n",
    "print(f'{5:>4}{secfrequency5:>13}')\n",
    "print(f'{6:>4}{secfrequency6:>13}')\n",
    "print(f'{7:>4}{secfrequency7:>13}')\n",
    "print(f'{8:>4}{secfrequency8:>13}')\n",
    "print(f'{9:>4}{secfrequency9:>13}')\n",
    "print(f'{10:>4}{secfrequency10:>13}')\n",
    "print(f'{11:>4}{secfrequency11:>13}')\n",
    "print(f'{12:>4}{secfrequency12:>13}')\n",
    "\n",
    "plt.bar(a1,a, color ='skyblue',\n",
    "        width = 0.4)\n",
    "plt.show()\n"
   ]
  },
  {
   "cell_type": "markdown",
   "id": "ef657d68-24f1-4aa9-96f0-c9faf592be16",
   "metadata": {},
   "source": [
    "7. Simon is a salesperson and he gets paid monthly. He has gotten 5 paychecks this year so far for the following amounts:\n",
    "12000, 9000, 10000, 5000, 21000\n",
    "Create a tuple with Simon's first name and a list with all of his paychecks. \n",
    "Can a tuple be changed after you create it?"
   ]
  },
  {
   "cell_type": "code",
   "execution_count": 83,
   "id": "8c104e95-4923-4037-a945-242a7cd9f9d7",
   "metadata": {},
   "outputs": [
    {
     "name": "stdout",
     "output_type": "stream",
     "text": [
      "('Simon', [12000, 9000, 10000, 5000, 21000])\n"
     ]
    }
   ],
   "source": [
    "# Code for Problem 7\n",
    "first_name = \"Simon\"\n",
    "paychecks = [12000, 9000, 10000, 5000, 21000]\n",
    "simon_info = (first_name, paychecks)\n",
    "\n",
    "print(simon_info)\n",
    "#tuples cannot be changed once created"
   ]
  },
  {
   "cell_type": "markdown",
   "id": "afa5d468-71cd-44f4-93d3-6cda952ac3ae",
   "metadata": {},
   "source": [
    "8. Create a program that will randomly select a single card from a standard deck of cards. A standard deck has two elements face and suit:\n",
    "Ace,2,3,4,5,6,7,8,9,10,Jack,Queen,King\n",
    "Clubs, Diamonds, Hearts, Spades\n",
    "\n",
    "The result I am looking for is something like: 4 of Diamonds, or Ace of Spades."
   ]
  },
  {
   "cell_type": "code",
   "execution_count": 92,
   "id": "d816ee32-0bc8-44a5-b5f9-076f13d4f0b9",
   "metadata": {},
   "outputs": [
    {
     "name": "stdout",
     "output_type": "stream",
     "text": [
      "King of  Hearts\n"
     ]
    }
   ],
   "source": [
    "#8\n",
    "import random\n",
    "e1=['Ace',2,3,4,5,6,7,8,9,10,'Jack','Queen','King']\n",
    "e2=['Clubs', 'Diamonds', 'Hearts', 'Spades']\n",
    "\n",
    "numofdraws=1\n",
    "\n",
    "for i in range(0,numofdraws):\n",
    "    v1 = random.choice(e1)\n",
    "    v2 = random.choice(e2)\n",
    "    \n",
    "print(v1,'of ',v2)\n"
   ]
  },
  {
   "cell_type": "code",
   "execution_count": null,
   "id": "d6bf269b-0317-46e7-8af5-7227fd3e7c12",
   "metadata": {},
   "outputs": [],
   "source": []
  },
  {
   "cell_type": "code",
   "execution_count": null,
   "id": "45515e5f-3921-47d1-9fe5-d163af7cb450",
   "metadata": {},
   "outputs": [],
   "source": []
  }
 ],
 "metadata": {
  "kernelspec": {
   "display_name": "Python 3 (ipykernel)",
   "language": "python",
   "name": "python3"
  },
  "language_info": {
   "codemirror_mode": {
    "name": "ipython",
    "version": 3
   },
   "file_extension": ".py",
   "mimetype": "text/x-python",
   "name": "python",
   "nbconvert_exporter": "python",
   "pygments_lexer": "ipython3",
   "version": "3.10.9"
  }
 },
 "nbformat": 4,
 "nbformat_minor": 5
}
